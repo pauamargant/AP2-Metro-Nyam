{
 "cells": [
  {
   "cell_type": "markdown",
   "id": "ed0225f2-efa5-470c-88c3-4cfd32cbf058",
   "metadata": {
    "tags": []
   },
   "source": [
    "# Proves de com llegir els metros"
   ]
  },
  {
   "cell_type": "code",
   "execution_count": 1,
   "id": "86660e74-d541-40f5-a8e9-dc28d10e8c03",
   "metadata": {},
   "outputs": [],
   "source": [
    "import pandas as pd\n",
    "import osmnx as ox\n",
    "import networkx as nx\n",
    "import matplotlib.pyplot as plt\n",
    "%matplotlib widget\n",
    "\n",
    "from dataclasses import dataclass\n",
    "from typing import Optional, TextIO, List, Tuple"
   ]
  },
  {
   "cell_type": "markdown",
   "id": "c8c12373-eb15-4ac3-8488-3d57771dda61",
   "metadata": {},
   "source": [
    "Llegim les dades"
   ]
  },
  {
   "cell_type": "code",
   "execution_count": 2,
   "id": "d6240310-6cb0-43d8-b872-0cb850b9d47c",
   "metadata": {},
   "outputs": [],
   "source": [
    "estacions = pd.read_csv(\"data/estacions.csv\")\n",
    "estacions=estacions.reset_index()\n",
    "accessos = pd.read_csv(\"data/accessos.csv\")"
   ]
  },
  {
   "cell_type": "code",
   "execution_count": 3,
   "id": "d1cecd19-3db4-4d25-94ed-0717b218a215",
   "metadata": {
    "tags": []
   },
   "outputs": [
    {
     "data": {
      "text/html": [
       "<div>\n",
       "<style scoped>\n",
       "    .dataframe tbody tr th:only-of-type {\n",
       "        vertical-align: middle;\n",
       "    }\n",
       "\n",
       "    .dataframe tbody tr th {\n",
       "        vertical-align: top;\n",
       "    }\n",
       "\n",
       "    .dataframe thead th {\n",
       "        text-align: right;\n",
       "    }\n",
       "</style>\n",
       "<table border=\"1\" class=\"dataframe\">\n",
       "  <thead>\n",
       "    <tr style=\"text-align: right;\">\n",
       "      <th></th>\n",
       "      <th>index</th>\n",
       "      <th>FID</th>\n",
       "      <th>ID_ESTACIO_LINIA</th>\n",
       "      <th>CODI_ESTACIO_LINIA</th>\n",
       "      <th>ID_GRUP_ESTACIO</th>\n",
       "      <th>CODI_GRUP_ESTACIO</th>\n",
       "      <th>ID_ESTACIO</th>\n",
       "      <th>CODI_ESTACIO</th>\n",
       "      <th>NOM_ESTACIO</th>\n",
       "      <th>ORDRE_ESTACIO</th>\n",
       "      <th>...</th>\n",
       "      <th>ID_TIPUS_ACCESSIBILITAT</th>\n",
       "      <th>NOM_TIPUS_ACCESSIBILITAT</th>\n",
       "      <th>ID_TIPUS_ESTAT</th>\n",
       "      <th>NOM_TIPUS_ESTAT</th>\n",
       "      <th>DATA_INAUGURACIO</th>\n",
       "      <th>DATA</th>\n",
       "      <th>COLOR_LINIA</th>\n",
       "      <th>PICTO</th>\n",
       "      <th>PICTO_GRUP</th>\n",
       "      <th>GEOMETRY</th>\n",
       "    </tr>\n",
       "  </thead>\n",
       "  <tbody>\n",
       "    <tr>\n",
       "      <th>0</th>\n",
       "      <td>0</td>\n",
       "      <td>ESTACIONS_LINIA.fid--64d2c1cd_17fdec435f4_43e3</td>\n",
       "      <td>167</td>\n",
       "      <td>111</td>\n",
       "      <td>111</td>\n",
       "      <td>6660111</td>\n",
       "      <td>81</td>\n",
       "      <td>111</td>\n",
       "      <td>Hospital de Bellvitge</td>\n",
       "      <td>1</td>\n",
       "      <td>...</td>\n",
       "      <td>1</td>\n",
       "      <td>Accessible</td>\n",
       "      <td>1</td>\n",
       "      <td>Operatiu</td>\n",
       "      <td>1989-10-18</td>\n",
       "      <td>2022-03-31</td>\n",
       "      <td>CE1126</td>\n",
       "      <td>L1</td>\n",
       "      <td>L1</td>\n",
       "      <td>POINT (2.107241921905464 41.344677306491334)</td>\n",
       "    </tr>\n",
       "    <tr>\n",
       "      <th>1</th>\n",
       "      <td>1</td>\n",
       "      <td>ESTACIONS_LINIA.fid--64d2c1cd_17fdec435f4_43e4</td>\n",
       "      <td>119</td>\n",
       "      <td>112</td>\n",
       "      <td>112</td>\n",
       "      <td>6660112</td>\n",
       "      <td>33</td>\n",
       "      <td>112</td>\n",
       "      <td>Bellvitge</td>\n",
       "      <td>2</td>\n",
       "      <td>...</td>\n",
       "      <td>1</td>\n",
       "      <td>Accessible</td>\n",
       "      <td>1</td>\n",
       "      <td>Operatiu</td>\n",
       "      <td>1989-10-18</td>\n",
       "      <td>2022-03-31</td>\n",
       "      <td>CE1126</td>\n",
       "      <td>L1</td>\n",
       "      <td>L1</td>\n",
       "      <td>POINT (2.1109169952642675 41.35097554129953)</td>\n",
       "    </tr>\n",
       "    <tr>\n",
       "      <th>2</th>\n",
       "      <td>2</td>\n",
       "      <td>ESTACIONS_LINIA.fid--64d2c1cd_17fdec435f4_43e5</td>\n",
       "      <td>120</td>\n",
       "      <td>113</td>\n",
       "      <td>113</td>\n",
       "      <td>6660113</td>\n",
       "      <td>34</td>\n",
       "      <td>113</td>\n",
       "      <td>Av. Carrilet</td>\n",
       "      <td>3</td>\n",
       "      <td>...</td>\n",
       "      <td>1</td>\n",
       "      <td>Accessible</td>\n",
       "      <td>1</td>\n",
       "      <td>Operatiu</td>\n",
       "      <td>1987-04-24</td>\n",
       "      <td>2022-03-31</td>\n",
       "      <td>CE1126</td>\n",
       "      <td>L1</td>\n",
       "      <td>L1</td>\n",
       "      <td>POINT (2.102631528901838 41.35855331385863)</td>\n",
       "    </tr>\n",
       "    <tr>\n",
       "      <th>3</th>\n",
       "      <td>3</td>\n",
       "      <td>ESTACIONS_LINIA.fid--64d2c1cd_17fdec435f4_43e6</td>\n",
       "      <td>168</td>\n",
       "      <td>114</td>\n",
       "      <td>114</td>\n",
       "      <td>6660114</td>\n",
       "      <td>82</td>\n",
       "      <td>114</td>\n",
       "      <td>Rambla Just Oliveras</td>\n",
       "      <td>4</td>\n",
       "      <td>...</td>\n",
       "      <td>1</td>\n",
       "      <td>Accessible</td>\n",
       "      <td>1</td>\n",
       "      <td>Operatiu</td>\n",
       "      <td>1987-04-24</td>\n",
       "      <td>2022-03-31</td>\n",
       "      <td>CE1126</td>\n",
       "      <td>L1</td>\n",
       "      <td>L1</td>\n",
       "      <td>POINT (2.0997493392175293 41.3640899130925)</td>\n",
       "    </tr>\n",
       "    <tr>\n",
       "      <th>4</th>\n",
       "      <td>4</td>\n",
       "      <td>ESTACIONS_LINIA.fid--64d2c1cd_17fdec435f4_43e7</td>\n",
       "      <td>121</td>\n",
       "      <td>115</td>\n",
       "      <td>115</td>\n",
       "      <td>6660115</td>\n",
       "      <td>35</td>\n",
       "      <td>115</td>\n",
       "      <td>Can Serra</td>\n",
       "      <td>5</td>\n",
       "      <td>...</td>\n",
       "      <td>1</td>\n",
       "      <td>Accessible</td>\n",
       "      <td>1</td>\n",
       "      <td>Operatiu</td>\n",
       "      <td>1987-04-24</td>\n",
       "      <td>2022-03-31</td>\n",
       "      <td>CE1126</td>\n",
       "      <td>L1</td>\n",
       "      <td>L1</td>\n",
       "      <td>POINT (2.1027575190099883 41.367694011134795)</td>\n",
       "    </tr>\n",
       "  </tbody>\n",
       "</table>\n",
       "<p>5 rows × 28 columns</p>\n",
       "</div>"
      ],
      "text/plain": [
       "   index                                             FID  ID_ESTACIO_LINIA  \\\n",
       "0      0  ESTACIONS_LINIA.fid--64d2c1cd_17fdec435f4_43e3               167   \n",
       "1      1  ESTACIONS_LINIA.fid--64d2c1cd_17fdec435f4_43e4               119   \n",
       "2      2  ESTACIONS_LINIA.fid--64d2c1cd_17fdec435f4_43e5               120   \n",
       "3      3  ESTACIONS_LINIA.fid--64d2c1cd_17fdec435f4_43e6               168   \n",
       "4      4  ESTACIONS_LINIA.fid--64d2c1cd_17fdec435f4_43e7               121   \n",
       "\n",
       "   CODI_ESTACIO_LINIA  ID_GRUP_ESTACIO  CODI_GRUP_ESTACIO  ID_ESTACIO  \\\n",
       "0                 111              111            6660111          81   \n",
       "1                 112              112            6660112          33   \n",
       "2                 113              113            6660113          34   \n",
       "3                 114              114            6660114          82   \n",
       "4                 115              115            6660115          35   \n",
       "\n",
       "   CODI_ESTACIO            NOM_ESTACIO  ORDRE_ESTACIO  ...  \\\n",
       "0           111  Hospital de Bellvitge              1  ...   \n",
       "1           112              Bellvitge              2  ...   \n",
       "2           113           Av. Carrilet              3  ...   \n",
       "3           114   Rambla Just Oliveras              4  ...   \n",
       "4           115              Can Serra              5  ...   \n",
       "\n",
       "   ID_TIPUS_ACCESSIBILITAT  NOM_TIPUS_ACCESSIBILITAT ID_TIPUS_ESTAT  \\\n",
       "0                        1                Accessible              1   \n",
       "1                        1                Accessible              1   \n",
       "2                        1                Accessible              1   \n",
       "3                        1                Accessible              1   \n",
       "4                        1                Accessible              1   \n",
       "\n",
       "   NOM_TIPUS_ESTAT  DATA_INAUGURACIO        DATA COLOR_LINIA PICTO  \\\n",
       "0         Operatiu        1989-10-18  2022-03-31      CE1126    L1   \n",
       "1         Operatiu        1989-10-18  2022-03-31      CE1126    L1   \n",
       "2         Operatiu        1987-04-24  2022-03-31      CE1126    L1   \n",
       "3         Operatiu        1987-04-24  2022-03-31      CE1126    L1   \n",
       "4         Operatiu        1987-04-24  2022-03-31      CE1126    L1   \n",
       "\n",
       "   PICTO_GRUP                                       GEOMETRY  \n",
       "0          L1   POINT (2.107241921905464 41.344677306491334)  \n",
       "1          L1   POINT (2.1109169952642675 41.35097554129953)  \n",
       "2          L1    POINT (2.102631528901838 41.35855331385863)  \n",
       "3          L1    POINT (2.0997493392175293 41.3640899130925)  \n",
       "4          L1  POINT (2.1027575190099883 41.367694011134795)  \n",
       "\n",
       "[5 rows x 28 columns]"
      ]
     },
     "execution_count": 3,
     "metadata": {},
     "output_type": "execute_result"
    }
   ],
   "source": [
    "estacions.head()"
   ]
  },
  {
   "cell_type": "code",
   "execution_count": 4,
   "id": "4e92e6f2-33e2-49f7-aff7-9ca400608874",
   "metadata": {
    "tags": []
   },
   "outputs": [
    {
     "data": {
      "text/plain": [
       "Index(['index', 'FID', 'ID_ESTACIO_LINIA', 'CODI_ESTACIO_LINIA',\n",
       "       'ID_GRUP_ESTACIO', 'CODI_GRUP_ESTACIO', 'ID_ESTACIO', 'CODI_ESTACIO',\n",
       "       'NOM_ESTACIO', 'ORDRE_ESTACIO', 'ID_LINIA', 'CODI_LINIA', 'NOM_LINIA',\n",
       "       'ORDRE_LINIA', 'ID_TIPUS_SERVEI', 'DESC_SERVEI', 'ORIGEN_SERVEI',\n",
       "       'DESTI_SERVEI', 'ID_TIPUS_ACCESSIBILITAT', 'NOM_TIPUS_ACCESSIBILITAT',\n",
       "       'ID_TIPUS_ESTAT', 'NOM_TIPUS_ESTAT', 'DATA_INAUGURACIO', 'DATA',\n",
       "       'COLOR_LINIA', 'PICTO', 'PICTO_GRUP', 'GEOMETRY'],\n",
       "      dtype='object')"
      ]
     },
     "execution_count": 4,
     "metadata": {},
     "output_type": "execute_result"
    }
   ],
   "source": [
    "#accessos.head()\n",
    "estacions.columns\n"
   ]
  },
  {
   "cell_type": "markdown",
   "id": "f657b3b9-e124-4d51-9442-f92cf3cb88ed",
   "metadata": {
    "tags": []
   },
   "source": [
    "## Versio de proves de la classe estació"
   ]
  },
  {
   "cell_type": "code",
   "execution_count": 5,
   "id": "7a9281cc-1a25-4d12-ab30-2f4df20c795f",
   "metadata": {},
   "outputs": [],
   "source": [
    "#We filter stations\n",
    "columns_of_interest = ['ID_ESTACIO','CODI_GRUP_ESTACIO','NOM_ESTACIO','NOM_LINIA','ID_LINIA','ORDRE_ESTACIO','ID_TIPUS_ACCESSIBILITAT','GEOMETRY']\n",
    "\n",
    "estacions = estacions[columns_of_interest]\n",
    "#estacions['GEOMETRY'] = list(map(float,(estacions['GEOMETRY'].split('(')[1].split(')')[0].split())))"
   ]
  },
  {
   "cell_type": "code",
   "execution_count": 6,
   "id": "afa321c0-9c35-43de-a676-f2f22536bd8a",
   "metadata": {},
   "outputs": [],
   "source": [
    "Point = Tuple[int,int]\n",
    "    \n",
    "@dataclass\n",
    "class Station:\n",
    "    #SHA DE MIRAR TEMA TIPUS DE DADES DE LES ID\n",
    "    st_id: str\n",
    "    group_code: str\n",
    "    name: str #A LA VERSIO FINAL TREURE IUSAR UN DICCIONARI SI FA FALTA (ESTALVIAR MEMORIA)\n",
    "    line_name: str\n",
    "    line_id: int\n",
    "    line_order: int\n",
    "    accessibility: str\n",
    "    pos: Point\n",
    "    connections: list[str]\n",
    "    accesses: list[str]\n",
    "    line_changes: list[str]\n",
    "    #def __init__(self, row):\n",
    "    def __hash__(self):\n",
    "        return st_id\n"
   ]
  },
  {
   "cell_type": "code",
   "execution_count": 7,
   "id": "608340e7-5e66-438e-a762-90f49b4f710f",
   "metadata": {},
   "outputs": [
    {
     "data": {
      "text/plain": [
       "Index(['FID', 'ID_ACCES', 'CODI_ACCES', 'NOM_ACCES', 'CODI_GRUP_ESTACIO',\n",
       "       'ID_ESTACIO', 'NOM_ESTACIO', 'ID_TIPUS_ACCESSIBILITAT',\n",
       "       'NOM_TIPUS_ACCESSIBILITAT', 'NUM_ASCENSORS', 'DATA', 'GEOMETRY'],\n",
       "      dtype='object')"
      ]
     },
     "execution_count": 7,
     "metadata": {},
     "output_type": "execute_result"
    }
   ],
   "source": [
    "accessos.columns"
   ]
  },
  {
   "cell_type": "code",
   "execution_count": 8,
   "id": "602e0b2e-0881-4727-8750-45951220d23f",
   "metadata": {},
   "outputs": [
    {
     "data": {
      "text/html": [
       "<div>\n",
       "<style scoped>\n",
       "    .dataframe tbody tr th:only-of-type {\n",
       "        vertical-align: middle;\n",
       "    }\n",
       "\n",
       "    .dataframe tbody tr th {\n",
       "        vertical-align: top;\n",
       "    }\n",
       "\n",
       "    .dataframe thead th {\n",
       "        text-align: right;\n",
       "    }\n",
       "</style>\n",
       "<table border=\"1\" class=\"dataframe\">\n",
       "  <thead>\n",
       "    <tr style=\"text-align: right;\">\n",
       "      <th></th>\n",
       "      <th>FID</th>\n",
       "      <th>ID_ACCES</th>\n",
       "      <th>CODI_ACCES</th>\n",
       "      <th>NOM_ACCES</th>\n",
       "      <th>CODI_GRUP_ESTACIO</th>\n",
       "      <th>ID_ESTACIO</th>\n",
       "      <th>NOM_ESTACIO</th>\n",
       "      <th>ID_TIPUS_ACCESSIBILITAT</th>\n",
       "      <th>NOM_TIPUS_ACCESSIBILITAT</th>\n",
       "      <th>NUM_ASCENSORS</th>\n",
       "      <th>DATA</th>\n",
       "      <th>GEOMETRY</th>\n",
       "    </tr>\n",
       "  </thead>\n",
       "  <tbody>\n",
       "    <tr>\n",
       "      <th>0</th>\n",
       "      <td>ACCESSOS.219</td>\n",
       "      <td>219</td>\n",
       "      <td>11101</td>\n",
       "      <td>Residència sanitària</td>\n",
       "      <td>6660111</td>\n",
       "      <td>111</td>\n",
       "      <td>Hospital de Bellvitge</td>\n",
       "      <td>1</td>\n",
       "      <td>Accessible</td>\n",
       "      <td>1</td>\n",
       "      <td>2022-03-31</td>\n",
       "      <td>POINT (2.1066690928052068 41.34435669904031)</td>\n",
       "    </tr>\n",
       "    <tr>\n",
       "      <th>1</th>\n",
       "      <td>ACCESSOS.220</td>\n",
       "      <td>220</td>\n",
       "      <td>11201</td>\n",
       "      <td>Rambla de la Marina / Avda. Granvia</td>\n",
       "      <td>6660112</td>\n",
       "      <td>112</td>\n",
       "      <td>Bellvitge</td>\n",
       "      <td>1</td>\n",
       "      <td>Accessible</td>\n",
       "      <td>1</td>\n",
       "      <td>2022-03-31</td>\n",
       "      <td>POINT (2.1115154528942424 41.35089549772364)</td>\n",
       "    </tr>\n",
       "    <tr>\n",
       "      <th>2</th>\n",
       "      <td>ACCESSOS.221</td>\n",
       "      <td>221</td>\n",
       "      <td>11202</td>\n",
       "      <td>Rambla de la Marina / Merca 2</td>\n",
       "      <td>6660112</td>\n",
       "      <td>112</td>\n",
       "      <td>Bellvitge</td>\n",
       "      <td>3</td>\n",
       "      <td>No accessible</td>\n",
       "      <td>0</td>\n",
       "      <td>2022-03-31</td>\n",
       "      <td>POINT (2.1108418043280226 41.35075144720632)</td>\n",
       "    </tr>\n",
       "    <tr>\n",
       "      <th>3</th>\n",
       "      <td>ACCESSOS.223</td>\n",
       "      <td>223</td>\n",
       "      <td>11211</td>\n",
       "      <td>Rambla de la Marina / Trav. Industrial</td>\n",
       "      <td>6660112</td>\n",
       "      <td>112</td>\n",
       "      <td>Bellvitge</td>\n",
       "      <td>3</td>\n",
       "      <td>No accessible</td>\n",
       "      <td>0</td>\n",
       "      <td>2022-03-31</td>\n",
       "      <td>POINT (2.110940199167465 41.351420324574185)</td>\n",
       "    </tr>\n",
       "    <tr>\n",
       "      <th>4</th>\n",
       "      <td>ACCESSOS.222</td>\n",
       "      <td>222</td>\n",
       "      <td>11212</td>\n",
       "      <td>Rambla de la Marina / Mercat Municipal</td>\n",
       "      <td>6660112</td>\n",
       "      <td>112</td>\n",
       "      <td>Bellvitge</td>\n",
       "      <td>3</td>\n",
       "      <td>No accessible</td>\n",
       "      <td>0</td>\n",
       "      <td>2022-03-31</td>\n",
       "      <td>POINT (2.110483123470267 41.35123702229523)</td>\n",
       "    </tr>\n",
       "  </tbody>\n",
       "</table>\n",
       "</div>"
      ],
      "text/plain": [
       "            FID  ID_ACCES  CODI_ACCES                               NOM_ACCES  \\\n",
       "0  ACCESSOS.219       219       11101                    Residència sanitària   \n",
       "1  ACCESSOS.220       220       11201     Rambla de la Marina / Avda. Granvia   \n",
       "2  ACCESSOS.221       221       11202           Rambla de la Marina / Merca 2   \n",
       "3  ACCESSOS.223       223       11211  Rambla de la Marina / Trav. Industrial   \n",
       "4  ACCESSOS.222       222       11212  Rambla de la Marina / Mercat Municipal   \n",
       "\n",
       "   CODI_GRUP_ESTACIO  ID_ESTACIO            NOM_ESTACIO  \\\n",
       "0            6660111         111  Hospital de Bellvitge   \n",
       "1            6660112         112              Bellvitge   \n",
       "2            6660112         112              Bellvitge   \n",
       "3            6660112         112              Bellvitge   \n",
       "4            6660112         112              Bellvitge   \n",
       "\n",
       "   ID_TIPUS_ACCESSIBILITAT NOM_TIPUS_ACCESSIBILITAT  NUM_ASCENSORS  \\\n",
       "0                        1               Accessible              1   \n",
       "1                        1               Accessible              1   \n",
       "2                        3            No accessible              0   \n",
       "3                        3            No accessible              0   \n",
       "4                        3            No accessible              0   \n",
       "\n",
       "         DATA                                      GEOMETRY  \n",
       "0  2022-03-31  POINT (2.1066690928052068 41.34435669904031)  \n",
       "1  2022-03-31  POINT (2.1115154528942424 41.35089549772364)  \n",
       "2  2022-03-31  POINT (2.1108418043280226 41.35075144720632)  \n",
       "3  2022-03-31  POINT (2.110940199167465 41.351420324574185)  \n",
       "4  2022-03-31   POINT (2.110483123470267 41.35123702229523)  "
      ]
     },
     "execution_count": 8,
     "metadata": {},
     "output_type": "execute_result"
    }
   ],
   "source": [
    "accessos.head()"
   ]
  },
  {
   "cell_type": "markdown",
   "id": "129a721b-8871-4501-9758-d07a418579bf",
   "metadata": {},
   "source": [
    "Creem la llista d'estacions"
   ]
  },
  {
   "cell_type": "code",
   "execution_count": 9,
   "id": "8ed3fcda-d24e-4ca0-baac-d1e596d3da76",
   "metadata": {},
   "outputs": [],
   "source": [
    "@dataclass\n",
    "class Access:\n",
    "    id_access: int\n",
    "    nom_acces: str\n",
    "    id_station: int\n",
    "    code_station_group: int\n",
    "    station_name: int\n",
    "    accessibility: int\n",
    "    \n",
    "    "
   ]
  },
  {
   "cell_type": "markdown",
   "id": "75eb38ac-0518-49d0-8b8e-9c51e3063306",
   "metadata": {},
   "source": []
  },
  {
   "cell_type": "code",
   "execution_count": 10,
   "id": "9ece4f34-db7e-43eb-877f-9a94af02123f",
   "metadata": {},
   "outputs": [],
   "source": [
    "Metro = nx.Graph()\n",
    "EdgeList: list[Tuple[int]] = []\n",
    "prev = None\n",
    "prev_line = None\n",
    "\n",
    "i = 0\n",
    "acc_list = [x for x in accessos.iterrows()]\n",
    "# FALTA FER AFEGIR ELS ACCESOS, LA IDEA ES APROFITAR QUE ACCESOS I ESTACIONSE ESTAN EN EL \"MATEIX\" ORDRE I A MESURA QUE\n",
    "#ANEM LLEGINT/AFEGINT ESTACIONS, ANAR ITERANT SOBRE EL CONJUNT D ACCESSO I TAMBE AFEGINT-LOS\n",
    "for index,row in estacions.iterrows():\n",
    "    p = row[\"GEOMETRY\"]\n",
    "    p=tuple(map(float,(p.split('(')[1].split(')')[0].split())))\n",
    "    Metro.add_node(row[\"ID_ESTACIO\"],pos=p)\n",
    "    if(prev != None and prev_line == row[\"ID_LINIA\"]):\n",
    "        EdgeList.append((row[\"ID_ESTACIO\"],prev))\n",
    "    while(acc_list[i][\"ID_ESTACIO\"]=row[\"ID_ESTACIO\"])\n",
    "        pa = \n",
    "        Metro.add_node([\"ID_ACCES\"],type=\"acc\",pos=pa)\n",
    "    prev = row[\"ID_ESTACIO\"]\n",
    "    prev_line = row[\"ID_LINIA\"]\n",
    "len(pd.unique(estacions[\"ID_ESTACIO\"]))\n",
    "Metro.add_edges_from(EdgeList)"
   ]
  },
  {
   "cell_type": "code",
   "execution_count": 11,
   "id": "e1c801f8-cbb5-4544-a805-ca9b2ee8980f",
   "metadata": {},
   "outputs": [
    {
     "data": {
      "application/vnd.jupyter.widget-view+json": {
       "model_id": "91d7eb8b99624286b0fa70a3778e1c33",
       "version_major": 2,
       "version_minor": 0
      },
      "image/png": "[encoded data removed]",
      "text/html": [
       "\n",
       "            <div style=\"display: inline-block;\">\n",
       "                <div class=\"jupyter-widgets widget-label\" style=\"text-align: center;\">\n",
       "                    Figure\n",
       "                </div>\n",
       "                <img src='data:image/png;base64,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' width=640.0/>\n",
       "            </div>\n",
       "        "
      ],
      "text/plain": [
       "Canvas(toolbar=Toolbar(toolitems=[('Home', 'Reset original view', 'home', 'home'), ('Back', 'Back to previous …"
      ]
     },
     "metadata": {},
     "output_type": "display_data"
    }
   ],
   "source": [
    "positions = nx.get_node_attributes(Metro,\"pos\")\n",
    "fig,ax=plt.subplots()\n",
    "nx.draw(Metro,pos=positions,font_size   = 10,\n",
    "        node_color  = \"blue\",\n",
    "        node_size   = 50,)\n"
   ]
  },
  {
   "cell_type": "code",
   "execution_count": null,
   "id": "97395eda-e8e9-453b-b9c4-b35f33856943",
   "metadata": {},
   "outputs": [
    {
     "ename": "NameError",
     "evalue": "name 'addasasd' is not defined",
     "output_type": "error",
     "traceback": [
      "\u001b[0;31m---------------------------------------------------------------------------\u001b[0m",
      "\u001b[0;31mNameError\u001b[0m                                 Traceback (most recent call last)",
      "Input \u001b[0;32mIn [104]\u001b[0m, in \u001b[0;36m<cell line: 7>\u001b[0;34m()\u001b[0m\n\u001b[1;32m      5\u001b[0m station_list : \u001b[38;5;28mlist\u001b[39m[Station] \u001b[38;5;241m=\u001b[39m []\n\u001b[1;32m      6\u001b[0m \u001b[38;5;66;03m#AIXO ES PODRIA MILLORAR AMB SHIFT -> D LA MANERA ACTUAL ES MOLT MOLT POC EFICIENT\u001b[39;00m\n\u001b[0;32m----> 7\u001b[0m \u001b[43maddasasd\u001b[49m\n\u001b[1;32m      8\u001b[0m \u001b[38;5;28;01mfor\u001b[39;00m index,row \u001b[38;5;129;01min\u001b[39;00m estacions\u001b[38;5;241m.\u001b[39miterrows():\n\u001b[1;32m      9\u001b[0m     connections: \u001b[38;5;28mlist\u001b[39m[\u001b[38;5;28mstr\u001b[39m] \u001b[38;5;241m=\u001b[39m []\n",
      "\u001b[0;31mNameError\u001b[0m: name 'addasasd' is not defined"
     ]
    }
   ],
   "source": [
    "#Oordenem per linia i ordre dins la linia\n",
    "\n",
    "prev: Optional[int] = None\n",
    "next: Optional[int] = None\n",
    "station_list : list[Station] = []\n",
    "#AIXO ES PODRIA MILLORAR AMB SHIFT -> D LA MANERA ACTUAL ES MOLT MOLT POC EFICIENT\n",
    "\n",
    "for index,row in estacions.iterrows():\n",
    "    connections: list[str] = []\n",
    "    if index > 0:\n",
    "        if estacions.loc[index-1,\"ID_LINIA\"] == estacions.loc[index,\"ID_LINIA\"]:\n",
    "            connections.append(estacions.loc[index-1,\"ID_ESTACIO\"])\n",
    "    if index < len(estacions)-1:\n",
    "        if estacions.loc[index+1,\"ID_LINIA\"]==estacions.loc[index,\"ID_LINIA\"]:\n",
    "            connections.append(estacions.loc[index+1,\"ID_ESTACIO\"])\n",
    "    #FALTA COM SABER QUAN HI HA TRANSBORD - UNA OPCIO ES FERHO UN COP SHA LLEGIT JA TOT\n",
    "    row['GEOMETRY']=list(map(float,(p.split('(')[1].split(')')[0].split())))\n",
    "    new_station = Station(*(row[columns_of_interest].to_list()),connections,[],[])#, connections[],[],[])\n",
    "    station_list.append(new_station)\n",
    "    \n",
    "    "
   ]
  },
  {
   "cell_type": "markdown",
   "id": "df3becb2-e56f-4ee0-b4f8-f340404705b5",
   "metadata": {},
   "source": [
    "Creem el graf"
   ]
  },
  {
   "cell_type": "code",
   "execution_count": null,
   "id": "0533535f-b978-484a-ab5b-49f8c3874b90",
   "metadata": {},
   "outputs": [],
   "source": []
  },
  {
   "cell_type": "code",
   "execution_count": 101,
   "id": "5165cd6b-45f4-4b7b-a409-3e4714c36a03",
   "metadata": {},
   "outputs": [
    {
     "data": {
      "text/plain": [
       "EdgeView([(81, 33), (33, 34), (34, 82), (82, 35), (35, 36), (36, 83), (83, 37), (37, 128), (128, 124), (124, 10), (10, 39), (39, 121), (121, 38), (38, 85), (85, 84), (84, 40), (40, 134), (134, 86), (86, 41), (41, 62), (62, 44), (44, 87), (87, 42), (42, 88), (88, 9), (9, 43), (43, 89), (89, 63), (63, 139), (139, 110), (110, 131), (131, 52), (52, 111), (111, 53), (53, 54), (54, 64), (64, 112), (112, 55), (55, 113), (113, 56), (56, 57), (57, 58), (58, 136), (136, 114), (114, 59), (59, 115), (115, 99), (99, 13), (13, 132), (132, 5), (5, 7), (7, 8), (8, 14), (14, 67), (67, 15), (15, 20), (20, 22), (22, 68), (68, 21), (21, 66), (66, 16), (16, 122), (122, 69), (69, 119), (119, 72), (72, 23), (23, 71), (71, 127), (127, 17), (17, 137), (137, 18), (18, 70), (70, 19), (19, 108), (108, 90), (90, 120), (120, 45), (45, 91), (91, 50), (50, 46), (46, 92), (92, 141), (141, 47), (47, 93), (93, 94), (94, 3), (3, 48), (48, 51), (51, 49), (49, 95), (95, 125), (125, 4), (4, 107), (107, 135), (135, 109), (109, 24), (24, 73), (73, 123), (123, 74), (74, 25), (25, 75), (75, 376), (376, 26), (26, 76), (76, 6), (6, 77), (77, 27), (27, 118), (118, 28), (28, 78), (78, 29), (29, 61), (61, 79), (79, 133), (133, 138), (138, 30), (30, 80), (80, 31), (31, 32), (32, 100), (100, 101), (101, 102), (102, 117), (117, 103), (117, 330), (103, 104), (104, 96), (104, 105), (96, 116), (116, 129), (129, 140), (140, 98), (98, 97), (97, 313), (313, 315), (315, 316), (316, 317), (317, 318), (318, 319), (319, 321), (321, 322), (322, 323), (323, 324), (324, 325), (325, 326), (326, 328), (326, 340), (328, 329), (329, 330), (329, 65), (105, 106), (106, 130), (130, 332), (332, 333), (333, 334), (334, 335), (335, 337), (337, 338), (338, 339), (339, 340), (65, 60), (60, 2), (2, 126), (126, 1), (1, 11), (11, 12)])"
      ]
     },
     "execution_count": 101,
     "metadata": {},
     "output_type": "execute_result"
    }
   ],
   "source": [
    "Metro.edges"
   ]
  },
  {
   "cell_type": "code",
   "execution_count": 98,
   "id": "c4b45549-0907-4131-96e3-291cdd37cedb",
   "metadata": {},
   "outputs": [],
   "source": [
    "p=\"POINT (2.107241921905464 41.344677306491334)\""
   ]
  },
  {
   "cell_type": "code",
   "execution_count": 99,
   "id": "1c36e762-2718-4e16-a0f8-2102da884a74",
   "metadata": {},
   "outputs": [
    {
     "data": {
      "text/plain": [
       "(2.107241921905464, 41.344677306491334)"
      ]
     },
     "execution_count": 99,
     "metadata": {},
     "output_type": "execute_result"
    }
   ],
   "source": [
    "(tuple(map(float,(p.split('(')[1].split(')')[0].split()))))"
   ]
  },
  {
   "cell_type": "code",
   "execution_count": 133,
   "id": "30d065aa-872a-4beb-a8fd-945cdbc6eb25",
   "metadata": {},
   "outputs": [
    {
     "data": {
      "application/vnd.jupyter.widget-view+json": {
       "model_id": "43e8b9a657ca4969ad3709aff7080d5f",
       "version_major": 2,
       "version_minor": 0
      },
      "image/png": "[encoded data removed]",
      "text/html": [
       "\n",
       "            <div style=\"display: inline-block;\">\n",
       "                <div class=\"jupyter-widgets widget-label\" style=\"text-align: center;\">\n",
       "                    Figure 1\n",
       "                </div>\n",
       "                <img src='data:image/png;base64,iVBORw0KGgoAAAANSUhEUgAAAoAAAAHgCAYAAAA10dzkAAAAOXRFWHRTb2Z0d2FyZQBNYXRwbG90bGliIHZlcnNpb24zLjUuMSwgaHR0cHM6Ly9tYXRwbG90bGliLm9yZy/YYfK9AAAACXBIWXMAAA9hAAAPYQGoP6dpAAAIyUlEQVR4nO3WMQEAIAzAMMC/5+ECjiYKenbPzCwAADLO7wAAAN4ygAAAMQYQACDGAAIAxBhAAIAYAwgAEGMAAQBiDCAAQIwBBACIMYAAADEGEAAgxgACAMQYQACAGAMIABBjAAEAYgwgAECMAQQAiDGAAAAxBhAAIMYAAgDEGEAAgBgDCAAQYwABAGIMIABAjAEEAIgxgAAAMQYQACDGAAIAxBhAAIAYAwgAEGMAAQBiDCAAQIwBBACIMYAAADEGEAAgxgACAMQYQACAGAMIABBjAAEAYgwgAECMAQQAiDGAAAAxBhAAIMYAAgDEGEAAgBgDCAAQYwABAGIMIABAjAEEAIgxgAAAMQYQACDGAAIAxBhAAIAYAwgAEGMAAQBiDCAAQIwBBACIMYAAADEGEAAgxgACAMQYQACAGAMIABBjAAEAYgwgAECMAQQAiDGAAAAxBhAAIMYAAgDEGEAAgBgDCAAQYwABAGIMIABAjAEEAIgxgAAAMQYQACDGAAIAxBhAAIAYAwgAEGMAAQBiDCAAQIwBBACIMYAAADEGEAAgxgACAMQYQACAGAMIABBjAAEAYgwgAECMAQQAiDGAAAAxBhAAIMYAAgDEGEAAgBgDCAAQYwABAGIMIABAjAEEAIgxgAAAMQYQACDGAAIAxBhAAIAYAwgAEGMAAQBiDCAAQIwBBACIMYAAADEGEAAgxgACAMQYQACAGAMIABBjAAEAYgwgAECMAQQAiDGAAAAxBhAAIMYAAgDEGEAAgBgDCAAQYwABAGIMIABAjAEEAIgxgAAAMQYQACDGAAIAxBhAAIAYAwgAEGMAAQBiDCAAQIwBBACIMYAAADEGEAAgxgACAMQYQACAGAMIABBjAAEAYgwgAECMAQQAiDGAAAAxBhAAIMYAAgDEGEAAgBgDCAAQYwABAGIMIABAjAEEAIgxgAAAMQYQACDGAAIAxBhAAIAYAwgAEGMAAQBiDCAAQIwBBACIMYAAADEGEAAgxgACAMQYQACAGAMIABBjAAEAYgwgAECMAQQAiDGAAAAxBhAAIMYAAgDEGEAAgBgDCAAQYwABAGIMIABAjAEEAIgxgAAAMQYQACDGAAIAxBhAAIAYAwgAEGMAAQBiDCAAQIwBBACIMYAAADEGEAAgxgACAMQYQACAGAMIABBjAAEAYgwgAECMAQQAiDGAAAAxBhAAIMYAAgDEGEAAgBgDCAAQYwABAGIMIABAjAEEAIgxgAAAMQYQACDGAAIAxBhAAIAYAwgAEGMAAQBiDCAAQIwBBACIMYAAADEGEAAgxgACAMQYQACAGAMIABBjAAEAYgwgAECMAQQAiDGAAAAxBhAAIMYAAgDEGEAAgBgDCAAQYwABAGIMIABAjAEEAIgxgAAAMQYQACDGAAIAxBhAAIAYAwgAEGMAAQBiDCAAQIwBBACIMYAAADEGEAAgxgACAMQYQACAGAMIABBjAAEAYgwgAECMAQQAiDGAAAAxBhAAIMYAAgDEGEAAgBgDCAAQYwABAGIMIABAjAEEAIgxgAAAMQYQACDGAAIAxBhAAIAYAwgAEGMAAQBiDCAAQIwBBACIMYAAADEGEAAgxgACAMQYQACAGAMIABBjAAEAYgwgAECMAQQAiDGAAAAxBhAAIMYAAgDEGEAAgBgDCAAQYwABAGIMIABAjAEEAIgxgAAAMQYQACDGAAIAxBhAAIAYAwgAEGMAAQBiDCAAQIwBBACIMYAAADEGEAAgxgACAMQYQACAGAMIABBjAAEAYgwgAECMAQQAiDGAAAAxBhAAIMYAAgDEGEAAgBgDCAAQYwABAGIMIABAjAEEAIgxgAAAMQYQACDGAAIAxBhAAIAYAwgAEGMAAQBiDCAAQIwBBACIMYAAADEGEAAgxgACAMQYQACAGAMIABBjAAEAYgwgAECMAQQAiDGAAAAxBhAAIMYAAgDEGEAAgBgDCAAQYwABAGIMIABAjAEEAIgxgAAAMQYQACDGAAIAxBhAAIAYAwgAEGMAAQBiDCAAQIwBBACIMYAAADEGEAAgxgACAMQYQACAGAMIABBjAAEAYgwgAECMAQQAiDGAAAAxBhAAIMYAAgDEGEAAgBgDCAAQYwABAGIMIABAjAEEAIgxgAAAMQYQACDGAAIAxBhAAIAYAwgAEGMAAQBiDCAAQIwBBACIMYAAADEGEAAgxgACAMQYQACAGAMIABBjAAEAYgwgAECMAQQAiDGAAAAxBhAAIMYAAgDEGEAAgBgDCAAQYwABAGIMIABAjAEEAIgxgAAAMQYQACDGAAIAxBhAAIAYAwgAEGMAAQBiDCAAQIwBBACIMYAAADEGEAAgxgACAMQYQACAGAMIABBjAAEAYgwgAECMAQQAiDGAAAAxBhAAIMYAAgDEGEAAgBgDCAAQYwABAGIMIABAjAEEAIgxgAAAMQYQACDGAAIAxBhAAIAYAwgAEGMAAQBiDCAAQIwBBACIMYAAADEGEAAgxgACAMQYQACAGAMIABBjAAEAYgwgAECMAQQAiDGAAAAxBhAAIMYAAgDEGEAAgBgDCAAQYwABAGIMIABAjAEEAIgxgAAAMQYQACDGAAIAxBhAAIAYAwgAEGMAAQBiDCAAQIwBBACIMYAAADEGEAAgxgACAMQYQACAGAMIABBjAAEAYgwgAECMAQQAiDGAAAAxBhAAIMYAAgDEGEAAgBgDCAAQYwABAGIMIABAjAEEAIgxgAAAMQYQACDGAAIAxBhAAIAYAwgAEGMAAQBiDCAAQIwBBACIMYAAADEGEAAgxgACAMQYQACAGAMIABBjAAEAYgwgAECMAQQAiDGAAAAxBhAAIMYAAgDEGEAAgBgDCAAQYwABAGIMIABAjAEEAIgxgAAAMQYQACDGAAIAxBhAAIAYAwgAEGMAAQBiDCAAQIwBBACIMYAAADEGEAAgxgACAMQYQACAGAMIABBjAAEAYgwgAECMAQQAiDGAAAAxBhAAIMYAAgDEGEAAgBgDCAAQYwABAGIuJnkHvKensmIAAAAASUVORK5CYII=' width=640.0/>\n",
       "            </div>\n",
       "        "
      ],
      "text/plain": [
       "Canvas(toolbar=Toolbar(toolitems=[('Home', 'Reset original view', 'home', 'home'), ('Back', 'Back to previous …"
      ]
     },
     "metadata": {},
     "output_type": "display_data"
    }
   ],
   "source": [
    "nx.draw(Metro,pos=positions)\n",
    "plt.show()"
   ]
  },
  {
   "cell_type": "code",
   "execution_count": 53,
   "id": "50c5f307-8c1e-4d2a-b279-944c91e4abd4",
   "metadata": {},
   "outputs": [
    {
     "data": {
      "text/plain": [
       "165"
      ]
     },
     "execution_count": 53,
     "metadata": {},
     "output_type": "execute_result"
    }
   ],
   "source": [
    "len(Metro.nodes())"
   ]
  },
  {
   "cell_type": "code",
   "execution_count": 54,
   "id": "66e5514e-1cc2-4100-ba99-724c39fedd6e",
   "metadata": {},
   "outputs": [
    {
     "data": {
      "text/plain": [
       "171"
      ]
     },
     "execution_count": 54,
     "metadata": {},
     "output_type": "execute_result"
    }
   ],
   "source": [
    "len(estacions)"
   ]
  },
  {
   "cell_type": "code",
   "execution_count": 16,
   "id": "05fbccf3-3e58-4deb-8f16-cb6df5c4fe8e",
   "metadata": {},
   "outputs": [
    {
     "data": {
      "text/plain": [
       "(0,\n",
       " ID_ESTACIO                                                           81\n",
       " CODI_GRUP_ESTACIO                                               6660111\n",
       " NOM_ESTACIO                                       Hospital de Bellvitge\n",
       " NOM_LINIA                                                            L1\n",
       " ID_LINIA                                                              4\n",
       " ORDRE_ESTACIO                                                         1\n",
       " ID_TIPUS_ACCESSIBILITAT                                               1\n",
       " GEOMETRY                   POINT (2.107241921905464 41.344677306491334)\n",
       " Name: 0, dtype: object)"
      ]
     },
     "execution_count": 16,
     "metadata": {},
     "output_type": "execute_result"
    }
   ],
   "source": [
    "next(estacions.iterrows())"
   ]
  },
  {
   "cell_type": "code",
   "execution_count": 24,
   "id": "d90a594d-ff9a-4805-a4f4-790a8ed6dda5",
   "metadata": {},
   "outputs": [
    {
     "ename": "IndexError",
     "evalue": "tuple index out of range",
     "output_type": "error",
     "traceback": [
      "\u001b[0;31m---------------------------------------------------------------------------\u001b[0m",
      "\u001b[0;31mIndexError\u001b[0m                                Traceback (most recent call last)",
      "Input \u001b[0;32mIn [24]\u001b[0m, in \u001b[0;36m<cell line: 1>\u001b[0;34m()\u001b[0m\n\u001b[0;32m----> 1\u001b[0m \u001b[38;5;28mnext\u001b[39m(\u001b[38;5;28;43mnext\u001b[39;49m\u001b[43m(\u001b[49m\u001b[43mestacions\u001b[49m\u001b[38;5;241;43m.\u001b[39;49m\u001b[43miterrows\u001b[49m\u001b[43m(\u001b[49m\u001b[43m)\u001b[49m\u001b[43m)\u001b[49m\u001b[43m[\u001b[49m\u001b[38;5;241;43m2\u001b[39;49m\u001b[43m]\u001b[49m)\n",
      "\u001b[0;31mIndexError\u001b[0m: tuple index out of range"
     ]
    }
   ],
   "source": [
    "next(next(estacions.iterrows())[2])"
   ]
  },
  {
   "cell_type": "code",
   "execution_count": 12,
   "id": "ee192114-c945-4022-8c24-e71c7cf321e4",
   "metadata": {},
   "outputs": [
    {
     "data": {
      "text/html": [
       "<div>\n",
       "<style scoped>\n",
       "    .dataframe tbody tr th:only-of-type {\n",
       "        vertical-align: middle;\n",
       "    }\n",
       "\n",
       "    .dataframe tbody tr th {\n",
       "        vertical-align: top;\n",
       "    }\n",
       "\n",
       "    .dataframe thead th {\n",
       "        text-align: right;\n",
       "    }\n",
       "</style>\n",
       "<table border=\"1\" class=\"dataframe\">\n",
       "  <thead>\n",
       "    <tr style=\"text-align: right;\">\n",
       "      <th></th>\n",
       "      <th>ID_ESTACIO</th>\n",
       "      <th>CODI_GRUP_ESTACIO</th>\n",
       "      <th>NOM_ESTACIO</th>\n",
       "      <th>NOM_LINIA</th>\n",
       "      <th>ID_LINIA</th>\n",
       "      <th>ORDRE_ESTACIO</th>\n",
       "      <th>ID_TIPUS_ACCESSIBILITAT</th>\n",
       "      <th>GEOMETRY</th>\n",
       "    </tr>\n",
       "  </thead>\n",
       "  <tbody>\n",
       "    <tr>\n",
       "      <th>0</th>\n",
       "      <td>81</td>\n",
       "      <td>6660111</td>\n",
       "      <td>Hospital de Bellvitge</td>\n",
       "      <td>L1</td>\n",
       "      <td>4</td>\n",
       "      <td>1</td>\n",
       "      <td>1</td>\n",
       "      <td>POINT (2.107241921905464 41.344677306491334)</td>\n",
       "    </tr>\n",
       "    <tr>\n",
       "      <th>1</th>\n",
       "      <td>33</td>\n",
       "      <td>6660112</td>\n",
       "      <td>Bellvitge</td>\n",
       "      <td>L1</td>\n",
       "      <td>4</td>\n",
       "      <td>2</td>\n",
       "      <td>1</td>\n",
       "      <td>POINT (2.1109169952642675 41.35097554129953)</td>\n",
       "    </tr>\n",
       "    <tr>\n",
       "      <th>2</th>\n",
       "      <td>34</td>\n",
       "      <td>6660113</td>\n",
       "      <td>Av. Carrilet</td>\n",
       "      <td>L1</td>\n",
       "      <td>4</td>\n",
       "      <td>3</td>\n",
       "      <td>1</td>\n",
       "      <td>POINT (2.102631528901838 41.35855331385863)</td>\n",
       "    </tr>\n",
       "    <tr>\n",
       "      <th>3</th>\n",
       "      <td>82</td>\n",
       "      <td>6660114</td>\n",
       "      <td>Rambla Just Oliveras</td>\n",
       "      <td>L1</td>\n",
       "      <td>4</td>\n",
       "      <td>4</td>\n",
       "      <td>1</td>\n",
       "      <td>POINT (2.0997493392175293 41.3640899130925)</td>\n",
       "    </tr>\n",
       "    <tr>\n",
       "      <th>4</th>\n",
       "      <td>35</td>\n",
       "      <td>6660115</td>\n",
       "      <td>Can Serra</td>\n",
       "      <td>L1</td>\n",
       "      <td>4</td>\n",
       "      <td>5</td>\n",
       "      <td>1</td>\n",
       "      <td>POINT (2.1027575190099883 41.367694011134795)</td>\n",
       "    </tr>\n",
       "    <tr>\n",
       "      <th>...</th>\n",
       "      <td>...</td>\n",
       "      <td>...</td>\n",
       "      <td>...</td>\n",
       "      <td>...</td>\n",
       "      <td>...</td>\n",
       "      <td>...</td>\n",
       "      <td>...</td>\n",
       "      <td>...</td>\n",
       "    </tr>\n",
       "    <tr>\n",
       "      <th>166</th>\n",
       "      <td>2</td>\n",
       "      <td>6661138</td>\n",
       "      <td>Torre Baró | Vallbona</td>\n",
       "      <td>L11</td>\n",
       "      <td>7</td>\n",
       "      <td>3</td>\n",
       "      <td>1</td>\n",
       "      <td>POINT (2.1798835778205032 41.45919574810995)</td>\n",
       "    </tr>\n",
       "    <tr>\n",
       "      <th>167</th>\n",
       "      <td>126</td>\n",
       "      <td>6661139</td>\n",
       "      <td>Ciutat Meridiana</td>\n",
       "      <td>L11</td>\n",
       "      <td>7</td>\n",
       "      <td>4</td>\n",
       "      <td>1</td>\n",
       "      <td>POINT (2.174649879224937 41.46080820561607)</td>\n",
       "    </tr>\n",
       "    <tr>\n",
       "      <th>168</th>\n",
       "      <td>1</td>\n",
       "      <td>6661140</td>\n",
       "      <td>Can Cuiàs</td>\n",
       "      <td>L11</td>\n",
       "      <td>7</td>\n",
       "      <td>5</td>\n",
       "      <td>1</td>\n",
       "      <td>POINT (2.173059363097836 41.46241309910048)</td>\n",
       "    </tr>\n",
       "    <tr>\n",
       "      <th>169</th>\n",
       "      <td>11</td>\n",
       "      <td>6660210</td>\n",
       "      <td>Paral·lel</td>\n",
       "      <td>FM</td>\n",
       "      <td>1</td>\n",
       "      <td>1</td>\n",
       "      <td>1</td>\n",
       "      <td>POINT (2.168853176999821 41.37384752700368)</td>\n",
       "    </tr>\n",
       "    <tr>\n",
       "      <th>170</th>\n",
       "      <td>12</td>\n",
       "      <td>6669902</td>\n",
       "      <td>Parc de Montjuïc</td>\n",
       "      <td>FM</td>\n",
       "      <td>1</td>\n",
       "      <td>2</td>\n",
       "      <td>1</td>\n",
       "      <td>POINT (2.163268768163695 41.36895607486559)</td>\n",
       "    </tr>\n",
       "  </tbody>\n",
       "</table>\n",
       "<p>171 rows × 8 columns</p>\n",
       "</div>"
      ],
      "text/plain": [
       "     ID_ESTACIO  CODI_GRUP_ESTACIO            NOM_ESTACIO NOM_LINIA  ID_LINIA  \\\n",
       "0            81            6660111  Hospital de Bellvitge        L1         4   \n",
       "1            33            6660112              Bellvitge        L1         4   \n",
       "2            34            6660113           Av. Carrilet        L1         4   \n",
       "3            82            6660114   Rambla Just Oliveras        L1         4   \n",
       "4            35            6660115              Can Serra        L1         4   \n",
       "..          ...                ...                    ...       ...       ...   \n",
       "166           2            6661138  Torre Baró | Vallbona       L11         7   \n",
       "167         126            6661139       Ciutat Meridiana       L11         7   \n",
       "168           1            6661140              Can Cuiàs       L11         7   \n",
       "169          11            6660210              Paral·lel        FM         1   \n",
       "170          12            6669902       Parc de Montjuïc        FM         1   \n",
       "\n",
       "     ORDRE_ESTACIO  ID_TIPUS_ACCESSIBILITAT  \\\n",
       "0                1                        1   \n",
       "1                2                        1   \n",
       "2                3                        1   \n",
       "3                4                        1   \n",
       "4                5                        1   \n",
       "..             ...                      ...   \n",
       "166              3                        1   \n",
       "167              4                        1   \n",
       "168              5                        1   \n",
       "169              1                        1   \n",
       "170              2                        1   \n",
       "\n",
       "                                          GEOMETRY  \n",
       "0     POINT (2.107241921905464 41.344677306491334)  \n",
       "1     POINT (2.1109169952642675 41.35097554129953)  \n",
       "2      POINT (2.102631528901838 41.35855331385863)  \n",
       "3      POINT (2.0997493392175293 41.3640899130925)  \n",
       "4    POINT (2.1027575190099883 41.367694011134795)  \n",
       "..                                             ...  \n",
       "166   POINT (2.1798835778205032 41.45919574810995)  \n",
       "167    POINT (2.174649879224937 41.46080820561607)  \n",
       "168    POINT (2.173059363097836 41.46241309910048)  \n",
       "169    POINT (2.168853176999821 41.37384752700368)  \n",
       "170    POINT (2.163268768163695 41.36895607486559)  \n",
       "\n",
       "[171 rows x 8 columns]"
      ]
     },
     "execution_count": 12,
     "metadata": {},
     "output_type": "execute_result"
    }
   ],
   "source": [
    "estacions"
   ]
  },
  {
   "cell_type": "code",
   "execution_count": 31,
   "id": "9d70f3af-1fe6-43ff-9864-5348598ab47d",
   "metadata": {},
   "outputs": [
    {
     "data": {
      "text/plain": [
       "30"
      ]
     },
     "execution_count": 31,
     "metadata": {},
     "output_type": "execute_result"
    }
   ],
   "source": [
    "estacions[\"ORDRE_ESTACIO\"].max()"
   ]
  },
  {
   "cell_type": "code",
   "execution_count": 25,
   "id": "d930a373-e19f-401d-b911-6faa924cf8bf",
   "metadata": {},
   "outputs": [
    {
     "data": {
      "text/plain": [
       "11101"
      ]
     },
     "execution_count": 25,
     "metadata": {},
     "output_type": "execute_result"
    }
   ],
   "source": [
    "accessos[\"CODI_ACCES\"].min()"
   ]
  },
  {
   "cell_type": "code",
   "execution_count": 27,
   "id": "b0d9dc96-9f7a-4edb-9989-268aa6fc5560",
   "metadata": {},
   "outputs": [
    {
     "data": {
      "text/plain": [
       "\u001b[0;31mSignature:\u001b[0m \u001b[0mMetro\u001b[0m\u001b[0;34m.\u001b[0m\u001b[0madd_edge\u001b[0m\u001b[0;34m(\u001b[0m\u001b[0mu_of_edge\u001b[0m\u001b[0;34m,\u001b[0m \u001b[0mv_of_edge\u001b[0m\u001b[0;34m,\u001b[0m \u001b[0;34m**\u001b[0m\u001b[0mattr\u001b[0m\u001b[0;34m)\u001b[0m\u001b[0;34m\u001b[0m\u001b[0;34m\u001b[0m\u001b[0m\n",
       "\u001b[0;31mDocstring:\u001b[0m\n",
       "Add an edge between u and v.\n",
       "\n",
       "The nodes u and v will be automatically added if they are\n",
       "not already in the graph.\n",
       "\n",
       "Edge attributes can be specified with keywords or by directly\n",
       "accessing the edge's attribute dictionary. See examples below.\n",
       "\n",
       "Parameters\n",
       "----------\n",
       "u_of_edge, v_of_edge : nodes\n",
       "    Nodes can be, for example, strings or numbers.\n",
       "    Nodes must be hashable (and not None) Python objects.\n",
       "attr : keyword arguments, optional\n",
       "    Edge data (or labels or objects) can be assigned using\n",
       "    keyword arguments.\n",
       "\n",
       "See Also\n",
       "--------\n",
       "add_edges_from : add a collection of edges\n",
       "\n",
       "Notes\n",
       "-----\n",
       "Adding an edge that already exists updates the edge data.\n",
       "\n",
       "Many NetworkX algorithms designed for weighted graphs use\n",
       "an edge attribute (by default `weight`) to hold a numerical value.\n",
       "\n",
       "Examples\n",
       "--------\n",
       "The following all add the edge e=(1, 2) to graph G:\n",
       "\n",
       ">>> G = nx.Graph()  # or DiGraph, MultiGraph, MultiDiGraph, etc\n",
       ">>> e = (1, 2)\n",
       ">>> G.add_edge(1, 2)  # explicit two-node form\n",
       ">>> G.add_edge(*e)  # single edge as tuple of two nodes\n",
       ">>> G.add_edges_from([(1, 2)])  # add edges from iterable container\n",
       "\n",
       "Associate data to edges using keywords:\n",
       "\n",
       ">>> G.add_edge(1, 2, weight=3)\n",
       ">>> G.add_edge(1, 3, weight=7, capacity=15, length=342.7)\n",
       "\n",
       "For non-string attribute keys, use subscript notation.\n",
       "\n",
       ">>> G.add_edge(1, 2)\n",
       ">>> G[1][2].update({0: 5})\n",
       ">>> G.edges[1, 2].update({0: 5})\n",
       "\u001b[0;31mFile:\u001b[0m      ~/.local/lib/python3.10/site-packages/networkx/classes/graph.py\n",
       "\u001b[0;31mType:\u001b[0m      method\n"
      ]
     },
     "metadata": {},
     "output_type": "display_data"
    }
   ],
   "source": [
    "Metro.add_edge?"
   ]
  },
  {
   "cell_type": "code",
   "execution_count": 34,
   "id": "177cfea1-ce91-429d-baee-bf75daa83be1",
   "metadata": {},
   "outputs": [
    {
     "data": {
      "text/plain": [
       "array(['L1', 'L2', 'L3', 'L4', 'L5', 'L9N', 'L9S', 'L10N', 'L10S', 'L11',\n",
       "       'FM'], dtype=object)"
      ]
     },
     "execution_count": 34,
     "metadata": {},
     "output_type": "execute_result"
    }
   ],
   "source": [
    "estacions[\"NOM_LINIA\"].unique()"
   ]
  },
  {
   "cell_type": "code",
   "execution_count": 36,
   "id": "0fdc71bd-c3bb-43c8-b86d-98d91edf2c64",
   "metadata": {},
   "outputs": [
    {
     "data": {
      "text/plain": [
       "\u001b[0;31mSignature:\u001b[0m \u001b[0mMetro\u001b[0m\u001b[0;34m.\u001b[0m\u001b[0madd_edge\u001b[0m\u001b[0;34m(\u001b[0m\u001b[0mu_of_edge\u001b[0m\u001b[0;34m,\u001b[0m \u001b[0mv_of_edge\u001b[0m\u001b[0;34m,\u001b[0m \u001b[0;34m**\u001b[0m\u001b[0mattr\u001b[0m\u001b[0;34m)\u001b[0m\u001b[0;34m\u001b[0m\u001b[0;34m\u001b[0m\u001b[0m\n",
       "\u001b[0;31mDocstring:\u001b[0m\n",
       "Add an edge between u and v.\n",
       "\n",
       "The nodes u and v will be automatically added if they are\n",
       "not already in the graph.\n",
       "\n",
       "Edge attributes can be specified with keywords or by directly\n",
       "accessing the edge's attribute dictionary. See examples below.\n",
       "\n",
       "Parameters\n",
       "----------\n",
       "u_of_edge, v_of_edge : nodes\n",
       "    Nodes can be, for example, strings or numbers.\n",
       "    Nodes must be hashable (and not None) Python objects.\n",
       "attr : keyword arguments, optional\n",
       "    Edge data (or labels or objects) can be assigned using\n",
       "    keyword arguments.\n",
       "\n",
       "See Also\n",
       "--------\n",
       "add_edges_from : add a collection of edges\n",
       "\n",
       "Notes\n",
       "-----\n",
       "Adding an edge that already exists updates the edge data.\n",
       "\n",
       "Many NetworkX algorithms designed for weighted graphs use\n",
       "an edge attribute (by default `weight`) to hold a numerical value.\n",
       "\n",
       "Examples\n",
       "--------\n",
       "The following all add the edge e=(1, 2) to graph G:\n",
       "\n",
       ">>> G = nx.Graph()  # or DiGraph, MultiGraph, MultiDiGraph, etc\n",
       ">>> e = (1, 2)\n",
       ">>> G.add_edge(1, 2)  # explicit two-node form\n",
       ">>> G.add_edge(*e)  # single edge as tuple of two nodes\n",
       ">>> G.add_edges_from([(1, 2)])  # add edges from iterable container\n",
       "\n",
       "Associate data to edges using keywords:\n",
       "\n",
       ">>> G.add_edge(1, 2, weight=3)\n",
       ">>> G.add_edge(1, 3, weight=7, capacity=15, length=342.7)\n",
       "\n",
       "For non-string attribute keys, use subscript notation.\n",
       "\n",
       ">>> G.add_edge(1, 2)\n",
       ">>> G[1][2].update({0: 5})\n",
       ">>> G.edges[1, 2].update({0: 5})\n",
       "\u001b[0;31mFile:\u001b[0m      ~/.local/lib/python3.10/site-packages/networkx/classes/graph.py\n",
       "\u001b[0;31mType:\u001b[0m      method\n"
      ]
     },
     "metadata": {},
     "output_type": "display_data"
    }
   ],
   "source": [
    "Metro.add_edge?"
   ]
  },
  {
   "cell_type": "code",
   "execution_count": 37,
   "id": "62c3bcfc-0367-4ef7-8498-fa0d816fb640",
   "metadata": {},
   "outputs": [
    {
     "data": {
      "text/html": [
       "<div>\n",
       "<style scoped>\n",
       "    .dataframe tbody tr th:only-of-type {\n",
       "        vertical-align: middle;\n",
       "    }\n",
       "\n",
       "    .dataframe tbody tr th {\n",
       "        vertical-align: top;\n",
       "    }\n",
       "\n",
       "    .dataframe thead th {\n",
       "        text-align: right;\n",
       "    }\n",
       "</style>\n",
       "<table border=\"1\" class=\"dataframe\">\n",
       "  <thead>\n",
       "    <tr style=\"text-align: right;\">\n",
       "      <th></th>\n",
       "      <th>FID</th>\n",
       "      <th>ID_ACCES</th>\n",
       "      <th>CODI_ACCES</th>\n",
       "      <th>NOM_ACCES</th>\n",
       "      <th>CODI_GRUP_ESTACIO</th>\n",
       "      <th>ID_ESTACIO</th>\n",
       "      <th>NOM_ESTACIO</th>\n",
       "      <th>ID_TIPUS_ACCESSIBILITAT</th>\n",
       "      <th>NOM_TIPUS_ACCESSIBILITAT</th>\n",
       "      <th>NUM_ASCENSORS</th>\n",
       "      <th>DATA</th>\n",
       "      <th>GEOMETRY</th>\n",
       "    </tr>\n",
       "  </thead>\n",
       "  <tbody>\n",
       "    <tr>\n",
       "      <th>0</th>\n",
       "      <td>ACCESSOS.219</td>\n",
       "      <td>219</td>\n",
       "      <td>11101</td>\n",
       "      <td>Residència sanitària</td>\n",
       "      <td>6660111</td>\n",
       "      <td>111</td>\n",
       "      <td>Hospital de Bellvitge</td>\n",
       "      <td>1</td>\n",
       "      <td>Accessible</td>\n",
       "      <td>1</td>\n",
       "      <td>2022-03-31</td>\n",
       "      <td>POINT (2.1066690928052068 41.34435669904031)</td>\n",
       "    </tr>\n",
       "    <tr>\n",
       "      <th>1</th>\n",
       "      <td>ACCESSOS.220</td>\n",
       "      <td>220</td>\n",
       "      <td>11201</td>\n",
       "      <td>Rambla de la Marina / Avda. Granvia</td>\n",
       "      <td>6660112</td>\n",
       "      <td>112</td>\n",
       "      <td>Bellvitge</td>\n",
       "      <td>1</td>\n",
       "      <td>Accessible</td>\n",
       "      <td>1</td>\n",
       "      <td>2022-03-31</td>\n",
       "      <td>POINT (2.1115154528942424 41.35089549772364)</td>\n",
       "    </tr>\n",
       "    <tr>\n",
       "      <th>2</th>\n",
       "      <td>ACCESSOS.221</td>\n",
       "      <td>221</td>\n",
       "      <td>11202</td>\n",
       "      <td>Rambla de la Marina / Merca 2</td>\n",
       "      <td>6660112</td>\n",
       "      <td>112</td>\n",
       "      <td>Bellvitge</td>\n",
       "      <td>3</td>\n",
       "      <td>No accessible</td>\n",
       "      <td>0</td>\n",
       "      <td>2022-03-31</td>\n",
       "      <td>POINT (2.1108418043280226 41.35075144720632)</td>\n",
       "    </tr>\n",
       "    <tr>\n",
       "      <th>3</th>\n",
       "      <td>ACCESSOS.223</td>\n",
       "      <td>223</td>\n",
       "      <td>11211</td>\n",
       "      <td>Rambla de la Marina / Trav. Industrial</td>\n",
       "      <td>6660112</td>\n",
       "      <td>112</td>\n",
       "      <td>Bellvitge</td>\n",
       "      <td>3</td>\n",
       "      <td>No accessible</td>\n",
       "      <td>0</td>\n",
       "      <td>2022-03-31</td>\n",
       "      <td>POINT (2.110940199167465 41.351420324574185)</td>\n",
       "    </tr>\n",
       "    <tr>\n",
       "      <th>4</th>\n",
       "      <td>ACCESSOS.222</td>\n",
       "      <td>222</td>\n",
       "      <td>11212</td>\n",
       "      <td>Rambla de la Marina / Mercat Municipal</td>\n",
       "      <td>6660112</td>\n",
       "      <td>112</td>\n",
       "      <td>Bellvitge</td>\n",
       "      <td>3</td>\n",
       "      <td>No accessible</td>\n",
       "      <td>0</td>\n",
       "      <td>2022-03-31</td>\n",
       "      <td>POINT (2.110483123470267 41.35123702229523)</td>\n",
       "    </tr>\n",
       "    <tr>\n",
       "      <th>...</th>\n",
       "      <td>...</td>\n",
       "      <td>...</td>\n",
       "      <td>...</td>\n",
       "      <td>...</td>\n",
       "      <td>...</td>\n",
       "      <td>...</td>\n",
       "      <td>...</td>\n",
       "      <td>...</td>\n",
       "      <td>...</td>\n",
       "      <td>...</td>\n",
       "      <td>...</td>\n",
       "      <td>...</td>\n",
       "    </tr>\n",
       "    <tr>\n",
       "      <th>347</th>\n",
       "      <td>ACCESSOS.214</td>\n",
       "      <td>214</td>\n",
       "      <td>113811</td>\n",
       "      <td>Sant Feliu de Codines</td>\n",
       "      <td>6661138</td>\n",
       "      <td>1138</td>\n",
       "      <td>Torre Baró | Vallbona</td>\n",
       "      <td>1</td>\n",
       "      <td>Accessible</td>\n",
       "      <td>1</td>\n",
       "      <td>2022-03-31</td>\n",
       "      <td>POINT (2.1792574126156485 41.45930587802702)</td>\n",
       "    </tr>\n",
       "    <tr>\n",
       "      <th>348</th>\n",
       "      <td>ACCESSOS.216</td>\n",
       "      <td>216</td>\n",
       "      <td>113901</td>\n",
       "      <td>Avinguda Rasos de Peguera</td>\n",
       "      <td>6661139</td>\n",
       "      <td>1139</td>\n",
       "      <td>Ciutat Meridiana</td>\n",
       "      <td>1</td>\n",
       "      <td>Accessible</td>\n",
       "      <td>1</td>\n",
       "      <td>2022-03-31</td>\n",
       "      <td>POINT (2.1746970655892848 41.46089542038299)</td>\n",
       "    </tr>\n",
       "    <tr>\n",
       "      <th>349</th>\n",
       "      <td>ACCESSOS.217</td>\n",
       "      <td>217</td>\n",
       "      <td>114001</td>\n",
       "      <td>Circumval·lació</td>\n",
       "      <td>6661140</td>\n",
       "      <td>1140</td>\n",
       "      <td>Can Cuiàs</td>\n",
       "      <td>1</td>\n",
       "      <td>Accessible</td>\n",
       "      <td>1</td>\n",
       "      <td>2022-03-31</td>\n",
       "      <td>POINT (2.1727425962893063 41.46267788387076)</td>\n",
       "    </tr>\n",
       "    <tr>\n",
       "      <th>350</th>\n",
       "      <td>ACCESSOS.218</td>\n",
       "      <td>218</td>\n",
       "      <td>114011</td>\n",
       "      <td>Les Fustes</td>\n",
       "      <td>6661140</td>\n",
       "      <td>1140</td>\n",
       "      <td>Can Cuiàs</td>\n",
       "      <td>1</td>\n",
       "      <td>Accessible</td>\n",
       "      <td>0</td>\n",
       "      <td>2022-03-31</td>\n",
       "      <td>POINT (2.173141755285573 41.46283124731911)</td>\n",
       "    </tr>\n",
       "    <tr>\n",
       "      <th>351</th>\n",
       "      <td>ACCESSOS.2258</td>\n",
       "      <td>2258</td>\n",
       "      <td>990201</td>\n",
       "      <td>Avinguda Miramar</td>\n",
       "      <td>6669902</td>\n",
       "      <td>9902</td>\n",
       "      <td>Parc de Montjuïc</td>\n",
       "      <td>1</td>\n",
       "      <td>Accessible</td>\n",
       "      <td>0</td>\n",
       "      <td>2022-03-31</td>\n",
       "      <td>POINT (2.163094465706356 41.36884517746519)</td>\n",
       "    </tr>\n",
       "  </tbody>\n",
       "</table>\n",
       "<p>352 rows × 12 columns</p>\n",
       "</div>"
      ],
      "text/plain": [
       "               FID  ID_ACCES  CODI_ACCES  \\\n",
       "0     ACCESSOS.219       219       11101   \n",
       "1     ACCESSOS.220       220       11201   \n",
       "2     ACCESSOS.221       221       11202   \n",
       "3     ACCESSOS.223       223       11211   \n",
       "4     ACCESSOS.222       222       11212   \n",
       "..             ...       ...         ...   \n",
       "347   ACCESSOS.214       214      113811   \n",
       "348   ACCESSOS.216       216      113901   \n",
       "349   ACCESSOS.217       217      114001   \n",
       "350   ACCESSOS.218       218      114011   \n",
       "351  ACCESSOS.2258      2258      990201   \n",
       "\n",
       "                                  NOM_ACCES  CODI_GRUP_ESTACIO  ID_ESTACIO  \\\n",
       "0                      Residència sanitària            6660111         111   \n",
       "1       Rambla de la Marina / Avda. Granvia            6660112         112   \n",
       "2             Rambla de la Marina / Merca 2            6660112         112   \n",
       "3    Rambla de la Marina / Trav. Industrial            6660112         112   \n",
       "4    Rambla de la Marina / Mercat Municipal            6660112         112   \n",
       "..                                      ...                ...         ...   \n",
       "347                   Sant Feliu de Codines            6661138        1138   \n",
       "348               Avinguda Rasos de Peguera            6661139        1139   \n",
       "349                         Circumval·lació            6661140        1140   \n",
       "350                              Les Fustes            6661140        1140   \n",
       "351                        Avinguda Miramar            6669902        9902   \n",
       "\n",
       "               NOM_ESTACIO  ID_TIPUS_ACCESSIBILITAT NOM_TIPUS_ACCESSIBILITAT  \\\n",
       "0    Hospital de Bellvitge                        1               Accessible   \n",
       "1                Bellvitge                        1               Accessible   \n",
       "2                Bellvitge                        3            No accessible   \n",
       "3                Bellvitge                        3            No accessible   \n",
       "4                Bellvitge                        3            No accessible   \n",
       "..                     ...                      ...                      ...   \n",
       "347  Torre Baró | Vallbona                        1               Accessible   \n",
       "348       Ciutat Meridiana                        1               Accessible   \n",
       "349              Can Cuiàs                        1               Accessible   \n",
       "350              Can Cuiàs                        1               Accessible   \n",
       "351       Parc de Montjuïc                        1               Accessible   \n",
       "\n",
       "     NUM_ASCENSORS        DATA                                      GEOMETRY  \n",
       "0                1  2022-03-31  POINT (2.1066690928052068 41.34435669904031)  \n",
       "1                1  2022-03-31  POINT (2.1115154528942424 41.35089549772364)  \n",
       "2                0  2022-03-31  POINT (2.1108418043280226 41.35075144720632)  \n",
       "3                0  2022-03-31  POINT (2.110940199167465 41.351420324574185)  \n",
       "4                0  2022-03-31   POINT (2.110483123470267 41.35123702229523)  \n",
       "..             ...         ...                                           ...  \n",
       "347              1  2022-03-31  POINT (2.1792574126156485 41.45930587802702)  \n",
       "348              1  2022-03-31  POINT (2.1746970655892848 41.46089542038299)  \n",
       "349              1  2022-03-31  POINT (2.1727425962893063 41.46267788387076)  \n",
       "350              0  2022-03-31   POINT (2.173141755285573 41.46283124731911)  \n",
       "351              0  2022-03-31   POINT (2.163094465706356 41.36884517746519)  \n",
       "\n",
       "[352 rows x 12 columns]"
      ]
     },
     "execution_count": 37,
     "metadata": {},
     "output_type": "execute_result"
    }
   ],
   "source": [
    "accessos"
   ]
  },
  {
   "cell_type": "code",
   "execution_count": null,
   "id": "37ea5009-29e3-4824-9707-6fb0341c5c05",
   "metadata": {},
   "outputs": [],
   "source": []
  }
 ],
 "metadata": {
  "kernelspec": {
   "display_name": "Python 3 (ipykernel)",
   "language": "python",
   "name": "python3"
  },
  "language_info": {
   "codemirror_mode": {
    "name": "ipython",
    "version": 3
   },
   "file_extension": ".py",
   "mimetype": "text/x-python",
   "name": "python",
   "nbconvert_exporter": "python",
   "pygments_lexer": "ipython3",
   "version": "3.10.4"
  }
 },
 "nbformat": 4,
 "nbformat_minor": 5
}
