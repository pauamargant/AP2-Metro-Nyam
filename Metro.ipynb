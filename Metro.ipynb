{
 "cells": [
  {
   "cell_type": "markdown",
   "id": "ed0225f2-efa5-470c-88c3-4cfd32cbf058",
   "metadata": {
    "tags": []
   },
   "source": [
    "# Proves de com llegir els metros"
   ]
  },
  {
   "cell_type": "code",
   "execution_count": 136,
   "id": "86660e74-d541-40f5-a8e9-dc28d10e8c03",
   "metadata": {},
   "outputs": [],
   "source": [
    "import pandas as pd\n",
    "import osmnx as ox\n",
    "import networkx as nx\n",
    "import matplotlib.pyplot as plt\n",
    "%matplotlib widget\n",
    "\n",
    "from dataclasses import dataclass\n",
    "from typing import Optional, TextIO, List, Tuple"
   ]
  },
  {
   "cell_type": "markdown",
   "id": "c8c12373-eb15-4ac3-8488-3d57771dda61",
   "metadata": {},
   "source": [
    "Llegim les dades"
   ]
  },
  {
   "cell_type": "code",
   "execution_count": 82,
   "id": "d6240310-6cb0-43d8-b872-0cb850b9d47c",
   "metadata": {},
   "outputs": [],
   "source": [
    "estacions = pd.read_csv(\"data/estacions.csv\")\n",
    "accessos = pd.read_csv(\"data/accessos.csv\")"
   ]
  },
  {
   "cell_type": "code",
   "execution_count": 83,
   "id": "d1cecd19-3db4-4d25-94ed-0717b218a215",
   "metadata": {},
   "outputs": [
    {
     "data": {
      "text/html": [
       "<div>\n",
       "<style scoped>\n",
       "    .dataframe tbody tr th:only-of-type {\n",
       "        vertical-align: middle;\n",
       "    }\n",
       "\n",
       "    .dataframe tbody tr th {\n",
       "        vertical-align: top;\n",
       "    }\n",
       "\n",
       "    .dataframe thead th {\n",
       "        text-align: right;\n",
       "    }\n",
       "</style>\n",
       "<table border=\"1\" class=\"dataframe\">\n",
       "  <thead>\n",
       "    <tr style=\"text-align: right;\">\n",
       "      <th></th>\n",
       "      <th>FID</th>\n",
       "      <th>ID_ESTACIO_LINIA</th>\n",
       "      <th>CODI_ESTACIO_LINIA</th>\n",
       "      <th>ID_GRUP_ESTACIO</th>\n",
       "      <th>CODI_GRUP_ESTACIO</th>\n",
       "      <th>ID_ESTACIO</th>\n",
       "      <th>CODI_ESTACIO</th>\n",
       "      <th>NOM_ESTACIO</th>\n",
       "      <th>ORDRE_ESTACIO</th>\n",
       "      <th>ID_LINIA</th>\n",
       "      <th>...</th>\n",
       "      <th>ID_TIPUS_ACCESSIBILITAT</th>\n",
       "      <th>NOM_TIPUS_ACCESSIBILITAT</th>\n",
       "      <th>ID_TIPUS_ESTAT</th>\n",
       "      <th>NOM_TIPUS_ESTAT</th>\n",
       "      <th>DATA_INAUGURACIO</th>\n",
       "      <th>DATA</th>\n",
       "      <th>COLOR_LINIA</th>\n",
       "      <th>PICTO</th>\n",
       "      <th>PICTO_GRUP</th>\n",
       "      <th>GEOMETRY</th>\n",
       "    </tr>\n",
       "  </thead>\n",
       "  <tbody>\n",
       "    <tr>\n",
       "      <th>0</th>\n",
       "      <td>ESTACIONS_LINIA.fid--64d2c1cd_17fdec435f4_43e3</td>\n",
       "      <td>167</td>\n",
       "      <td>111</td>\n",
       "      <td>111</td>\n",
       "      <td>6660111</td>\n",
       "      <td>81</td>\n",
       "      <td>111</td>\n",
       "      <td>Hospital de Bellvitge</td>\n",
       "      <td>1</td>\n",
       "      <td>4</td>\n",
       "      <td>...</td>\n",
       "      <td>1</td>\n",
       "      <td>Accessible</td>\n",
       "      <td>1</td>\n",
       "      <td>Operatiu</td>\n",
       "      <td>1989-10-18</td>\n",
       "      <td>2022-03-31</td>\n",
       "      <td>CE1126</td>\n",
       "      <td>L1</td>\n",
       "      <td>L1</td>\n",
       "      <td>POINT (2.107241921905464 41.344677306491334)</td>\n",
       "    </tr>\n",
       "    <tr>\n",
       "      <th>1</th>\n",
       "      <td>ESTACIONS_LINIA.fid--64d2c1cd_17fdec435f4_43e4</td>\n",
       "      <td>119</td>\n",
       "      <td>112</td>\n",
       "      <td>112</td>\n",
       "      <td>6660112</td>\n",
       "      <td>33</td>\n",
       "      <td>112</td>\n",
       "      <td>Bellvitge</td>\n",
       "      <td>2</td>\n",
       "      <td>4</td>\n",
       "      <td>...</td>\n",
       "      <td>1</td>\n",
       "      <td>Accessible</td>\n",
       "      <td>1</td>\n",
       "      <td>Operatiu</td>\n",
       "      <td>1989-10-18</td>\n",
       "      <td>2022-03-31</td>\n",
       "      <td>CE1126</td>\n",
       "      <td>L1</td>\n",
       "      <td>L1</td>\n",
       "      <td>POINT (2.1109169952642675 41.35097554129953)</td>\n",
       "    </tr>\n",
       "    <tr>\n",
       "      <th>2</th>\n",
       "      <td>ESTACIONS_LINIA.fid--64d2c1cd_17fdec435f4_43e5</td>\n",
       "      <td>120</td>\n",
       "      <td>113</td>\n",
       "      <td>113</td>\n",
       "      <td>6660113</td>\n",
       "      <td>34</td>\n",
       "      <td>113</td>\n",
       "      <td>Av. Carrilet</td>\n",
       "      <td>3</td>\n",
       "      <td>4</td>\n",
       "      <td>...</td>\n",
       "      <td>1</td>\n",
       "      <td>Accessible</td>\n",
       "      <td>1</td>\n",
       "      <td>Operatiu</td>\n",
       "      <td>1987-04-24</td>\n",
       "      <td>2022-03-31</td>\n",
       "      <td>CE1126</td>\n",
       "      <td>L1</td>\n",
       "      <td>L1</td>\n",
       "      <td>POINT (2.102631528901838 41.35855331385863)</td>\n",
       "    </tr>\n",
       "    <tr>\n",
       "      <th>3</th>\n",
       "      <td>ESTACIONS_LINIA.fid--64d2c1cd_17fdec435f4_43e6</td>\n",
       "      <td>168</td>\n",
       "      <td>114</td>\n",
       "      <td>114</td>\n",
       "      <td>6660114</td>\n",
       "      <td>82</td>\n",
       "      <td>114</td>\n",
       "      <td>Rambla Just Oliveras</td>\n",
       "      <td>4</td>\n",
       "      <td>4</td>\n",
       "      <td>...</td>\n",
       "      <td>1</td>\n",
       "      <td>Accessible</td>\n",
       "      <td>1</td>\n",
       "      <td>Operatiu</td>\n",
       "      <td>1987-04-24</td>\n",
       "      <td>2022-03-31</td>\n",
       "      <td>CE1126</td>\n",
       "      <td>L1</td>\n",
       "      <td>L1</td>\n",
       "      <td>POINT (2.0997493392175293 41.3640899130925)</td>\n",
       "    </tr>\n",
       "    <tr>\n",
       "      <th>4</th>\n",
       "      <td>ESTACIONS_LINIA.fid--64d2c1cd_17fdec435f4_43e7</td>\n",
       "      <td>121</td>\n",
       "      <td>115</td>\n",
       "      <td>115</td>\n",
       "      <td>6660115</td>\n",
       "      <td>35</td>\n",
       "      <td>115</td>\n",
       "      <td>Can Serra</td>\n",
       "      <td>5</td>\n",
       "      <td>4</td>\n",
       "      <td>...</td>\n",
       "      <td>1</td>\n",
       "      <td>Accessible</td>\n",
       "      <td>1</td>\n",
       "      <td>Operatiu</td>\n",
       "      <td>1987-04-24</td>\n",
       "      <td>2022-03-31</td>\n",
       "      <td>CE1126</td>\n",
       "      <td>L1</td>\n",
       "      <td>L1</td>\n",
       "      <td>POINT (2.1027575190099883 41.367694011134795)</td>\n",
       "    </tr>\n",
       "  </tbody>\n",
       "</table>\n",
       "<p>5 rows × 27 columns</p>\n",
       "</div>"
      ],
      "text/plain": [
       "                                              FID  ID_ESTACIO_LINIA  \\\n",
       "0  ESTACIONS_LINIA.fid--64d2c1cd_17fdec435f4_43e3               167   \n",
       "1  ESTACIONS_LINIA.fid--64d2c1cd_17fdec435f4_43e4               119   \n",
       "2  ESTACIONS_LINIA.fid--64d2c1cd_17fdec435f4_43e5               120   \n",
       "3  ESTACIONS_LINIA.fid--64d2c1cd_17fdec435f4_43e6               168   \n",
       "4  ESTACIONS_LINIA.fid--64d2c1cd_17fdec435f4_43e7               121   \n",
       "\n",
       "   CODI_ESTACIO_LINIA  ID_GRUP_ESTACIO  CODI_GRUP_ESTACIO  ID_ESTACIO  \\\n",
       "0                 111              111            6660111          81   \n",
       "1                 112              112            6660112          33   \n",
       "2                 113              113            6660113          34   \n",
       "3                 114              114            6660114          82   \n",
       "4                 115              115            6660115          35   \n",
       "\n",
       "   CODI_ESTACIO            NOM_ESTACIO  ORDRE_ESTACIO  ID_LINIA  ...  \\\n",
       "0           111  Hospital de Bellvitge              1         4  ...   \n",
       "1           112              Bellvitge              2         4  ...   \n",
       "2           113           Av. Carrilet              3         4  ...   \n",
       "3           114   Rambla Just Oliveras              4         4  ...   \n",
       "4           115              Can Serra              5         4  ...   \n",
       "\n",
       "   ID_TIPUS_ACCESSIBILITAT NOM_TIPUS_ACCESSIBILITAT  ID_TIPUS_ESTAT  \\\n",
       "0                        1               Accessible               1   \n",
       "1                        1               Accessible               1   \n",
       "2                        1               Accessible               1   \n",
       "3                        1               Accessible               1   \n",
       "4                        1               Accessible               1   \n",
       "\n",
       "   NOM_TIPUS_ESTAT DATA_INAUGURACIO        DATA COLOR_LINIA  PICTO PICTO_GRUP  \\\n",
       "0         Operatiu       1989-10-18  2022-03-31      CE1126     L1         L1   \n",
       "1         Operatiu       1989-10-18  2022-03-31      CE1126     L1         L1   \n",
       "2         Operatiu       1987-04-24  2022-03-31      CE1126     L1         L1   \n",
       "3         Operatiu       1987-04-24  2022-03-31      CE1126     L1         L1   \n",
       "4         Operatiu       1987-04-24  2022-03-31      CE1126     L1         L1   \n",
       "\n",
       "                                        GEOMETRY  \n",
       "0   POINT (2.107241921905464 41.344677306491334)  \n",
       "1   POINT (2.1109169952642675 41.35097554129953)  \n",
       "2    POINT (2.102631528901838 41.35855331385863)  \n",
       "3    POINT (2.0997493392175293 41.3640899130925)  \n",
       "4  POINT (2.1027575190099883 41.367694011134795)  \n",
       "\n",
       "[5 rows x 27 columns]"
      ]
     },
     "execution_count": 83,
     "metadata": {},
     "output_type": "execute_result"
    }
   ],
   "source": [
    "estacions.head()"
   ]
  },
  {
   "cell_type": "code",
   "execution_count": 84,
   "id": "4e92e6f2-33e2-49f7-aff7-9ca400608874",
   "metadata": {},
   "outputs": [
    {
     "data": {
      "text/plain": [
       "Index(['FID', 'ID_ESTACIO_LINIA', 'CODI_ESTACIO_LINIA', 'ID_GRUP_ESTACIO',\n",
       "       'CODI_GRUP_ESTACIO', 'ID_ESTACIO', 'CODI_ESTACIO', 'NOM_ESTACIO',\n",
       "       'ORDRE_ESTACIO', 'ID_LINIA', 'CODI_LINIA', 'NOM_LINIA', 'ORDRE_LINIA',\n",
       "       'ID_TIPUS_SERVEI', 'DESC_SERVEI', 'ORIGEN_SERVEI', 'DESTI_SERVEI',\n",
       "       'ID_TIPUS_ACCESSIBILITAT', 'NOM_TIPUS_ACCESSIBILITAT', 'ID_TIPUS_ESTAT',\n",
       "       'NOM_TIPUS_ESTAT', 'DATA_INAUGURACIO', 'DATA', 'COLOR_LINIA', 'PICTO',\n",
       "       'PICTO_GRUP', 'GEOMETRY'],\n",
       "      dtype='object')"
      ]
     },
     "execution_count": 84,
     "metadata": {},
     "output_type": "execute_result"
    }
   ],
   "source": [
    "#accessos.head()\n",
    "estacions.columns\n"
   ]
  },
  {
   "cell_type": "markdown",
   "id": "f657b3b9-e124-4d51-9442-f92cf3cb88ed",
   "metadata": {
    "tags": []
   },
   "source": [
    "## Versio de proves de la classe estació"
   ]
  },
  {
   "cell_type": "code",
   "execution_count": 179,
   "id": "7a9281cc-1a25-4d12-ab30-2f4df20c795f",
   "metadata": {},
   "outputs": [],
   "source": [
    "#We filter stations\n",
    "columns_of_interest = ['ID_ESTACIO','CODI_GRUP_ESTACIO','NOM_ESTACIO','NOM_LINIA','ID_LINIA','ORDRE_ESTACIO','ID_TIPUS_ACCESSIBILITAT','GEOMETRY']\n",
    "\n",
    "estacions = estacions[columns_of_interest]\n",
    "#estacions['GEOMETRY'] = list(map(float,(estacions['GEOMETRY'].split('(')[1].split(')')[0].split())))"
   ]
  },
  {
   "cell_type": "code",
   "execution_count": 147,
   "id": "afa321c0-9c35-43de-a676-f2f22536bd8a",
   "metadata": {},
   "outputs": [],
   "source": [
    "Point: Tuple[int,int]\n",
    "    \n",
    "@dataclass\n",
    "class Station:\n",
    "    st_id: str\n",
    "    group_code: str\n",
    "    name: str #A LA VERSIO FINAL TREURE IUSAR UN DICCIONARI SI FA FALTA (ESTALVIAR MEMORIA)\n",
    "    line_name: str\n",
    "    line_id: int\n",
    "    line_order: int\n",
    "    accessibility: str\n",
    "    pos: Point\n",
    "    connections: list[str]\n",
    "    accesses: list[str]\n",
    "    line_changes: list[str]\n",
    "    #def __init__(self, row):\n",
    "    def __hash__(self):\n",
    "        return st_id\n"
   ]
  },
  {
   "cell_type": "markdown",
   "id": "129a721b-8871-4501-9758-d07a418579bf",
   "metadata": {},
   "source": [
    "Creem la llista d'estacions"
   ]
  },
  {
   "cell_type": "code",
   "execution_count": 180,
   "id": "97395eda-e8e9-453b-b9c4-b35f33856943",
   "metadata": {},
   "outputs": [],
   "source": [
    "#Oordenem per linia i ordre dins la linia\n",
    "estacions = estacions.sort_values(['ID_LINIA','ORDRE_ESTACIO']) #NO FA FALTA CREC\n",
    "\n",
    "prev: Optional[int] = None\n",
    "next: Optional[int] = None\n",
    "station_list : list[Station] = []\n",
    "#AIXO ES PODRIA MILLORAR AMB SHIFT -> D LA MANERA ACTUAL ES MOLT MOLT POC EFICIENT\n",
    "for index,row in estacions.iterrows():\n",
    "    connections: list[str] = []\n",
    "    if index > 0:\n",
    "        if estacions.loc[index-1,\"ID_LINIA\"] == estacions.loc[index,\"ID_LINIA\"]:\n",
    "            connections.append(estacions.loc[index-1,\"ID_ESTACIO\"])\n",
    "    if index < len(estacions)-1:\n",
    "        if estacions.loc[index+1,\"ID_LINIA\"]==estacions.loc[index,\"ID_LINIA\"]:\n",
    "            connections.append(estacions.loc[index+1,\"ID_ESTACIO\"])\n",
    "    #FALTA COM SABER QUAN HI HA TRANSBORD - UNA OPCIO ES FERHO UN COP SHA LLEGIT JA TOT\n",
    "    row['GEOMETRY']=list(map(float,(p.split('(')[1].split(')')[0].split())))\n",
    "    new_station = Station(*(row[columns_of_interest].to_list()),connections,[],[])#, connections[],[],[])\n",
    "    station_list.append(new_station)\n",
    "    \n",
    "    "
   ]
  },
  {
   "cell_type": "markdown",
   "id": "df3becb2-e56f-4ee0-b4f8-f340404705b5",
   "metadata": {},
   "source": [
    "Creem el graf"
   ]
  },
  {
   "cell_type": "code",
   "execution_count": 197,
   "id": "0533535f-b978-484a-ab5b-49f8c3874b90",
   "metadata": {},
   "outputs": [],
   "source": [
    "Metro = nx.Graph()\n",
    "Metro.add_nodes_from(range(0,len(station_list)),data = station_list)"
   ]
  },
  {
   "cell_type": "code",
   "execution_count": 198,
   "id": "5165cd6b-45f4-4b7b-a409-3e4714c36a03",
   "metadata": {},
   "outputs": [
    {
     "name": "stdout",
     "output_type": "stream",
     "text": [
      "[0, 1, 2, 3, 4, 5, 6, 7, 8, 9, 10, 11, 12, 13, 14, 15, 16, 17, 18, 19, 20, 21, 22, 23, 24, 25, 26, 27, 28, 29, 30, 31, 32, 33, 34, 35, 36, 37, 38, 39, 40, 41, 42, 43, 44, 45, 46, 47, 48, 49, 50, 51, 52, 53, 54, 55, 56, 57, 58, 59, 60, 61, 62, 63, 64, 65, 66, 67, 68, 69, 70, 71, 72, 73, 74, 75, 76, 77, 78, 79, 80, 81, 82, 83, 84, 85, 86, 87, 88, 89, 90, 91, 92, 93, 94, 95, 96, 97, 98, 99, 100, 101, 102, 103, 104, 105, 106, 107, 108, 109, 110, 111, 112, 113, 114, 115, 116, 117, 118, 119, 120, 121, 122, 123, 124, 125, 126, 127, 128, 129, 130, 131, 132, 133, 134, 135, 136, 137, 138, 139, 140, 141, 142, 143, 144, 145, 146, 147, 148, 149, 150, 151, 152, 153, 154, 155, 156, 157, 158, 159, 160, 161, 162, 163, 164, 165, 166, 167, 168, 169, 170]\n"
     ]
    }
   ],
   "source": [
    "mynodes = list(Metro.nodes())\n",
    "print(mynodes)"
   ]
  },
  {
   "cell_type": "code",
   "execution_count": 150,
   "id": "c4b45549-0907-4131-96e3-291cdd37cedb",
   "metadata": {},
   "outputs": [],
   "source": [
    "p=\"POINT (2.107241921905464 41.344677306491334)\""
   ]
  },
  {
   "cell_type": "code",
   "execution_count": 176,
   "id": "1c36e762-2718-4e16-a0f8-2102da884a74",
   "metadata": {},
   "outputs": [],
   "source": [
    "x= list(map(float,(p.split('(')[1].split(')')[0].split())))"
   ]
  },
  {
   "cell_type": "code",
   "execution_count": 177,
   "id": "30d065aa-872a-4beb-a8fd-945cdbc6eb25",
   "metadata": {},
   "outputs": [
    {
     "data": {
      "text/plain": [
       "[2.107241921905464, 41.344677306491334]"
      ]
     },
     "execution_count": 177,
     "metadata": {},
     "output_type": "execute_result"
    }
   ],
   "source": [
    "x"
   ]
  },
  {
   "cell_type": "code",
   "execution_count": null,
   "id": "50c5f307-8c1e-4d2a-b279-944c91e4abd4",
   "metadata": {},
   "outputs": [],
   "source": []
  }
 ],
 "metadata": {
  "kernelspec": {
   "display_name": "Python 3 (ipykernel)",
   "language": "python",
   "name": "python3"
  },
  "language_info": {
   "codemirror_mode": {
    "name": "ipython",
    "version": 3
   },
   "file_extension": ".py",
   "mimetype": "text/x-python",
   "name": "python",
   "nbconvert_exporter": "python",
   "pygments_lexer": "ipython3",
   "version": "3.10.4"
  }
 },
 "nbformat": 4,
 "nbformat_minor": 5
}
