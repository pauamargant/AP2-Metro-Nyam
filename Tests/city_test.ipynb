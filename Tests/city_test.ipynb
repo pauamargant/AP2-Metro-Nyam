{
 "cells": [
  {
   "cell_type": "code",
   "execution_count": 20,
   "id": "14230017-bc56-4955-a833-ce969348fafd",
   "metadata": {},
   "outputs": [],
   "source": [
    "import lib_metro as metro\n",
    "\n",
    "import pandas as pd\n",
    "import osmnx as ox\n",
    "import networkx as nx\n",
    "from staticmap import StaticMap, CircleMarker, Line\n",
    "import matplotlib.pyplot as plt\n",
    "from dataclasses import dataclass\n",
    "from typing import Optional, TextIO, List, Tuple, Dict, TypeAlias\n",
    "import pickle as pkl"
   ]
  },
  {
   "cell_type": "code",
   "execution_count": 107,
   "id": "b5044230-bd0d-4e2d-a89c-c74528f567bf",
   "metadata": {},
   "outputs": [],
   "source": [
    "CityGraph : TypeAlias = nx.Graph\n",
    "OsmnxGraph : TypeAlias = nx.MultiDiGraph\n",
    "\n",
    "Point = Tuple[int, int]\n",
    "MetroGraph: TypeAlias = nx.Graph"
   ]
  },
  {
   "cell_type": "code",
   "execution_count": 33,
   "id": "5ea1022e-5cd7-4797-9720-8d4fcab1fbf1",
   "metadata": {},
   "outputs": [],
   "source": [
    "def get_osmnx_graph() -> OsmnxGraph:\n",
    "    graph = ox.graph_from_place(\"Barcelona\", network_type='walk', simplify=True)\n",
    "       \n",
    "    for u, v, key, geom in graph.edges(data = \"geometry\", keys = True):\n",
    "        if geom is not None:\n",
    "            del(graph[u][v][key][\"geometry\"])\n",
    "    return graph"
   ]
  },
  {
   "cell_type": "code",
   "execution_count": 26,
   "id": "0a755ab7-7921-433d-9252-c5de6a6e9e52",
   "metadata": {},
   "outputs": [],
   "source": [
    "def save_osmnx_graph(g: OsmnxGraph, filename: str) -> None: \n",
    "    pickle_out = open(filename,\"wb\")\n",
    "    pkl.dump(g,pickle_out)\n",
    "    pickle_out.close()\n",
    "    \n",
    "def load_osmnx_graph(filename: str) -> OsmnxGraph: \n",
    "    pickle_in = open(filename,\"rb\")\n",
    "    return pkl.load(pickle_in)\n",
    "    "
   ]
  },
  {
   "cell_type": "code",
   "execution_count": 115,
   "id": "e0a246de-824b-4abc-9ec8-cd2a97202628",
   "metadata": {},
   "outputs": [],
   "source": [
    "def build_city_graph(g1: OsmnxGraph, g2: MetroGraph) -> CityGraph:  \n",
    "    nodes = []\n",
    "    X=[]\n",
    "    Y=[]\n",
    "    for node in g2.nodes():\n",
    "        value = g2.nodes[node]\n",
    "        if value[\"type\"]==\"access\":\n",
    "            coords = value[\"pos\"]\n",
    "            X.append(coords[0])\n",
    "            Y.append(coords[1])\n",
    "            nodes.append(node)\n",
    "    g = nx.union(nx.Graph(g1),g2)\n",
    "    for n1,n2 in zip(nodes,nearest):\n",
    "        \n",
    "        g.add_edge(n1,n2,type=\"road_access\")\n",
    "\n",
    "    return g\n",
    "            "
   ]
  },
  {
   "cell_type": "code",
   "execution_count": 116,
   "id": "e14a68ec-4d28-47b7-9f59-dddee936ff8e",
   "metadata": {},
   "outputs": [],
   "source": [
    "g2 = metro.get_metro_graph()\n",
    "g1=load_osmnx_graph(\"barcelona.pickle\")"
   ]
  },
  {
   "cell_type": "code",
   "execution_count": 117,
   "id": "805e99bf-a364-4798-b2b0-be053132806c",
   "metadata": {},
   "outputs": [],
   "source": [
    "g=build_city_graph(g1,g2)"
   ]
  },
  {
   "cell_type": "code",
   "execution_count": 125,
   "id": "201c0da2-a418-405c-8065-085e44494e79",
   "metadata": {},
   "outputs": [
    {
     "data": {
      "text/plain": [
       "{'y': 41.3703647, 'x': 2.1875931, 'street_count': 3}"
      ]
     },
     "execution_count": 125,
     "metadata": {},
     "output_type": "execute_result"
    }
   ],
   "source": [
    "g.nodes[21638843]"
   ]
  },
  {
   "cell_type": "code",
   "execution_count": 74,
   "id": "936cc525-b71c-4359-9a57-9ab894d6a942",
   "metadata": {},
   "outputs": [
    {
     "ename": "NetworkXError",
     "evalue": "All graphs must be graphs or multigraphs.",
     "output_type": "error",
     "traceback": [
      "\u001b[0;31m---------------------------------------------------------------------------\u001b[0m",
      "\u001b[0;31mNetworkXError\u001b[0m                             Traceback (most recent call last)",
      "Input \u001b[0;32mIn [74]\u001b[0m, in \u001b[0;36m<cell line: 1>\u001b[0;34m()\u001b[0m\n\u001b[0;32m----> 1\u001b[0m \u001b[43mnx\u001b[49m\u001b[38;5;241;43m.\u001b[39;49m\u001b[43munion\u001b[49m\u001b[43m(\u001b[49m\u001b[43mg\u001b[49m\u001b[38;5;241;43m.\u001b[39;49m\u001b[43mto_undirected\u001b[49m\u001b[43m(\u001b[49m\u001b[43m)\u001b[49m\u001b[43m,\u001b[49m\u001b[43mg2\u001b[49m\u001b[43m)\u001b[49m\n",
      "File \u001b[0;32m~/.local/lib/python3.10/site-packages/networkx/algorithms/operators/binary.py:75\u001b[0m, in \u001b[0;36munion\u001b[0;34m(G, H, rename, name)\u001b[0m\n\u001b[1;32m     67\u001b[0m     \u001b[38;5;28;01mimport\u001b[39;00m \u001b[38;5;21;01mwarnings\u001b[39;00m\n\u001b[1;32m     69\u001b[0m     warnings\u001b[38;5;241m.\u001b[39mwarn(\n\u001b[1;32m     70\u001b[0m         \u001b[38;5;124m\"\u001b[39m\u001b[38;5;124mname parameter is deprecated and will be removed in version 3.0\u001b[39m\u001b[38;5;124m\"\u001b[39m,\n\u001b[1;32m     71\u001b[0m         \u001b[38;5;167;01mDeprecationWarning\u001b[39;00m,\n\u001b[1;32m     72\u001b[0m         stacklevel\u001b[38;5;241m=\u001b[39m\u001b[38;5;241m2\u001b[39m,\n\u001b[1;32m     73\u001b[0m     )\n\u001b[0;32m---> 75\u001b[0m \u001b[38;5;28;01mreturn\u001b[39;00m \u001b[43mnx\u001b[49m\u001b[38;5;241;43m.\u001b[39;49m\u001b[43munion_all\u001b[49m\u001b[43m(\u001b[49m\u001b[43m[\u001b[49m\u001b[43mG\u001b[49m\u001b[43m,\u001b[49m\u001b[43m \u001b[49m\u001b[43mH\u001b[49m\u001b[43m]\u001b[49m\u001b[43m,\u001b[49m\u001b[43m \u001b[49m\u001b[43mrename\u001b[49m\u001b[43m)\u001b[49m\n",
      "File \u001b[0;32m~/.local/lib/python3.10/site-packages/networkx/algorithms/operators/all.py:56\u001b[0m, in \u001b[0;36munion_all\u001b[0;34m(graphs, rename)\u001b[0m\n\u001b[1;32m     53\u001b[0m U \u001b[38;5;241m=\u001b[39m graphs[\u001b[38;5;241m0\u001b[39m]\n\u001b[1;32m     55\u001b[0m \u001b[38;5;28;01mif\u001b[39;00m \u001b[38;5;28many\u001b[39m(G\u001b[38;5;241m.\u001b[39mis_multigraph() \u001b[38;5;241m!=\u001b[39m U\u001b[38;5;241m.\u001b[39mis_multigraph() \u001b[38;5;28;01mfor\u001b[39;00m G \u001b[38;5;129;01min\u001b[39;00m graphs):\n\u001b[0;32m---> 56\u001b[0m     \u001b[38;5;28;01mraise\u001b[39;00m nx\u001b[38;5;241m.\u001b[39mNetworkXError(\u001b[38;5;124m\"\u001b[39m\u001b[38;5;124mAll graphs must be graphs or multigraphs.\u001b[39m\u001b[38;5;124m\"\u001b[39m)\n\u001b[1;32m     58\u001b[0m \u001b[38;5;66;03m# rename graph to obtain disjoint node labels\u001b[39;00m\n\u001b[1;32m     59\u001b[0m \u001b[38;5;28;01mdef\u001b[39;00m \u001b[38;5;21madd_prefix\u001b[39m(graph, prefix):\n",
      "\u001b[0;31mNetworkXError\u001b[0m: All graphs must be graphs or multigraphs."
     ]
    }
   ],
   "source": []
  },
  {
   "cell_type": "code",
   "execution_count": 96,
   "id": "35a1a40d-ffc8-46a9-a66b-65609efbcda8",
   "metadata": {},
   "outputs": [
    {
     "data": {
      "text/plain": [
       "5318165288"
      ]
     },
     "execution_count": 96,
     "metadata": {},
     "output_type": "execute_result"
    }
   ],
   "source": [
    "ox.nearest_nodes(g,g2.nodes[121][\"pos\"][0],g2.nodes[121][\"pos\"][1])"
   ]
  },
  {
   "cell_type": "code",
   "execution_count": 93,
   "id": "005f6345-d9ca-4e31-801f-f3fc26e04a80",
   "metadata": {},
   "outputs": [
    {
     "data": {
      "text/plain": [
       "{'pos': (2.1432912673316498, 41.37525362810128), 'type': 'station'}"
      ]
     },
     "execution_count": 93,
     "metadata": {},
     "output_type": "execute_result"
    }
   ],
   "source": [
    "g2.nodes[121]"
   ]
  },
  {
   "cell_type": "code",
   "execution_count": null,
   "id": "75b4f7de-1195-48c0-9525-82876868c7be",
   "metadata": {},
   "outputs": [],
   "source": []
  }
 ],
 "metadata": {
  "kernelspec": {
   "display_name": "Python 3 (ipykernel)",
   "language": "python",
   "name": "python3"
  },
  "language_info": {
   "codemirror_mode": {
    "name": "ipython",
    "version": 3
   },
   "file_extension": ".py",
   "mimetype": "text/x-python",
   "name": "python",
   "nbconvert_exporter": "python",
   "pygments_lexer": "ipython3",
   "version": "3.10.4"
  }
 },
 "nbformat": 4,
 "nbformat_minor": 5
}
