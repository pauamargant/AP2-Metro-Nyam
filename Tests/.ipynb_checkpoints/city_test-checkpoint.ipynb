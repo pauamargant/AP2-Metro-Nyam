{
 "cells": [
  {
   "cell_type": "code",
   "execution_count": 5,
   "id": "14230017-bc56-4955-a833-ce969348fafd",
   "metadata": {},
   "outputs": [],
   "source": [
    "import lib_metro as metro\n",
    "\n",
    "import pandas as pd\n",
    "import osmnx as ox\n",
    "import networkx as nx\n",
    "from staticmap import StaticMap, CircleMarker, Line\n",
    "import matplotlib.pyplot as plt\n",
    "from dataclasses import dataclass\n",
    "from typing import Optional, TextIO, List, Tuple, Dict, TypeAlias"
   ]
  },
  {
   "cell_type": "code",
   "execution_count": 10,
   "id": "b5044230-bd0d-4e2d-a89c-c74528f567bf",
   "metadata": {},
   "outputs": [],
   "source": [
    "CityGraph : TypeAlias = nx.Graph\n",
    "OsmnxGraph : TypeAlias = nx.MultiDiGraph\n"
   ]
  },
  {
   "cell_type": "code",
   "execution_count": 14,
   "id": "5ea1022e-5cd7-4797-9720-8d4fcab1fbf1",
   "metadata": {},
   "outputs": [],
   "source": [
    "def get_osmnx_graph() -> OsmnxGraph:\n",
    "    graph = ox.graph_from_place(\"Barcelona\", network_type='walk', simplify=True)\n",
    "    for u, v, key, geom in graph.edges(data = \"geometry\", keys = True):\n",
    "        if geom is not None:\n",
    "            del(graph[u][v][key][\"geometry\"])"
   ]
  },
  {
   "cell_type": "code",
   "execution_count": 15,
   "id": "77c8f1e5-3400-45cd-8191-f5daac29d9a4",
   "metadata": {},
   "outputs": [
    {
     "ename": "NameError",
     "evalue": "name 'osmnx' is not defined",
     "output_type": "error",
     "traceback": [
      "\u001b[0;31m---------------------------------------------------------------------------\u001b[0m",
      "\u001b[0;31mNameError\u001b[0m                                 Traceback (most recent call last)",
      "Input \u001b[0;32mIn [15]\u001b[0m, in \u001b[0;36m<cell line: 1>\u001b[0;34m()\u001b[0m\n\u001b[0;32m----> 1\u001b[0m ox\u001b[38;5;241m.\u001b[39mplot_graph(\u001b[43mget_osmnx_graph\u001b[49m\u001b[43m(\u001b[49m\u001b[43m)\u001b[49m)\n",
      "Input \u001b[0;32mIn [14]\u001b[0m, in \u001b[0;36mget_osmnx_graph\u001b[0;34m()\u001b[0m\n\u001b[1;32m      1\u001b[0m \u001b[38;5;28;01mdef\u001b[39;00m \u001b[38;5;21mget_osmnx_graph\u001b[39m() \u001b[38;5;241m-\u001b[39m\u001b[38;5;241m>\u001b[39m OsmnxGraph:\n\u001b[0;32m----> 2\u001b[0m     graph \u001b[38;5;241m=\u001b[39m \u001b[43mosmnx\u001b[49m\u001b[38;5;241m.\u001b[39mgraph_from_place(\u001b[38;5;124m\"\u001b[39m\u001b[38;5;124mBarcelona\u001b[39m\u001b[38;5;124m\"\u001b[39m, network_type\u001b[38;5;241m=\u001b[39m\u001b[38;5;124m'\u001b[39m\u001b[38;5;124mwalk\u001b[39m\u001b[38;5;124m'\u001b[39m, simplify\u001b[38;5;241m=\u001b[39m\u001b[38;5;28;01mTrue\u001b[39;00m)\n\u001b[1;32m      3\u001b[0m     \u001b[38;5;28;01mfor\u001b[39;00m u, v, key, geom \u001b[38;5;129;01min\u001b[39;00m graph\u001b[38;5;241m.\u001b[39medges(data \u001b[38;5;241m=\u001b[39m \u001b[38;5;124m\"\u001b[39m\u001b[38;5;124mgeometry\u001b[39m\u001b[38;5;124m\"\u001b[39m, keys \u001b[38;5;241m=\u001b[39m \u001b[38;5;28;01mTrue\u001b[39;00m):\n\u001b[1;32m      4\u001b[0m         \u001b[38;5;28;01mif\u001b[39;00m geom \u001b[38;5;129;01mis\u001b[39;00m \u001b[38;5;129;01mnot\u001b[39;00m \u001b[38;5;28;01mNone\u001b[39;00m:\n",
      "\u001b[0;31mNameError\u001b[0m: name 'osmnx' is not defined"
     ]
    }
   ],
   "source": [
    "ox.plot_graph(get_osmnx_graph())"
   ]
  },
  {
   "cell_type": "code",
   "execution_count": null,
   "id": "0a755ab7-7921-433d-9252-c5de6a6e9e52",
   "metadata": {},
   "outputs": [],
   "source": []
  }
 ],
 "metadata": {
  "kernelspec": {
   "display_name": "Python 3 (ipykernel)",
   "language": "python",
   "name": "python3"
  },
  "language_info": {
   "codemirror_mode": {
    "name": "ipython",
    "version": 3
   },
   "file_extension": ".py",
   "mimetype": "text/x-python",
   "name": "python",
   "nbconvert_exporter": "python",
   "pygments_lexer": "ipython3",
   "version": "3.10.4"
  }
 },
 "nbformat": 4,
 "nbformat_minor": 5
}
